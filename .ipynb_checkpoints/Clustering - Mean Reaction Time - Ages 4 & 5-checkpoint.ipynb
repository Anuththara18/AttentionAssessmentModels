{
 "cells": [
  {
   "cell_type": "code",
   "execution_count": 31,
   "id": "65bc68df",
   "metadata": {},
   "outputs": [],
   "source": [
    "# importing libraries    \n",
    "import numpy as nm    \n",
    "import matplotlib.pyplot as mtp    \n",
    "import pandas as pd   \n",
    "from sklearn.cluster import DBSCAN\n",
    "from numpy import unique\n",
    "from numpy import where\n",
    "from matplotlib import pyplot"
   ]
  },
  {
   "cell_type": "code",
   "execution_count": 32,
   "id": "7f3124a2",
   "metadata": {},
   "outputs": [
    {
     "data": {
      "text/html": [
       "<div>\n",
       "<style scoped>\n",
       "    .dataframe tbody tr th:only-of-type {\n",
       "        vertical-align: middle;\n",
       "    }\n",
       "\n",
       "    .dataframe tbody tr th {\n",
       "        vertical-align: top;\n",
       "    }\n",
       "\n",
       "    .dataframe thead th {\n",
       "        text-align: right;\n",
       "    }\n",
       "</style>\n",
       "<table border=\"1\" class=\"dataframe\">\n",
       "  <thead>\n",
       "    <tr style=\"text-align: right;\">\n",
       "      <th></th>\n",
       "      <th>id</th>\n",
       "      <th>child_gender</th>\n",
       "      <th>child_age</th>\n",
       "      <th>total_correct_responses</th>\n",
       "      <th>correct_responses</th>\n",
       "      <th>commission_errors</th>\n",
       "      <th>omission_errors</th>\n",
       "      <th>mean_reaction_time</th>\n",
       "      <th>total_duration</th>\n",
       "      <th>percentage_no_of_correct_responses</th>\n",
       "      <th>oer</th>\n",
       "      <th>cer</th>\n",
       "      <th>Unnamed: 14</th>\n",
       "    </tr>\n",
       "  </thead>\n",
       "  <tbody>\n",
       "    <tr>\n",
       "      <th>count</th>\n",
       "      <td>199.000000</td>\n",
       "      <td>199.000000</td>\n",
       "      <td>199.000000</td>\n",
       "      <td>199.000000</td>\n",
       "      <td>199.000000</td>\n",
       "      <td>199.000000</td>\n",
       "      <td>199.000000</td>\n",
       "      <td>199.000000</td>\n",
       "      <td>199.000000</td>\n",
       "      <td>199.000000</td>\n",
       "      <td>199.000000</td>\n",
       "      <td>199.000000</td>\n",
       "      <td>0.0</td>\n",
       "    </tr>\n",
       "    <tr>\n",
       "      <th>mean</th>\n",
       "      <td>132.050251</td>\n",
       "      <td>1.552764</td>\n",
       "      <td>5.381910</td>\n",
       "      <td>12.276382</td>\n",
       "      <td>11.366834</td>\n",
       "      <td>1.246231</td>\n",
       "      <td>0.914573</td>\n",
       "      <td>1179.095477</td>\n",
       "      <td>72018.110553</td>\n",
       "      <td>91.297458</td>\n",
       "      <td>9.205054</td>\n",
       "      <td>10.413912</td>\n",
       "      <td>NaN</td>\n",
       "    </tr>\n",
       "    <tr>\n",
       "      <th>std</th>\n",
       "      <td>112.972543</td>\n",
       "      <td>0.498462</td>\n",
       "      <td>1.116847</td>\n",
       "      <td>5.034125</td>\n",
       "      <td>5.032330</td>\n",
       "      <td>2.742239</td>\n",
       "      <td>1.270385</td>\n",
       "      <td>287.870913</td>\n",
       "      <td>26719.502614</td>\n",
       "      <td>12.994899</td>\n",
       "      <td>14.502696</td>\n",
       "      <td>24.112936</td>\n",
       "      <td>NaN</td>\n",
       "    </tr>\n",
       "    <tr>\n",
       "      <th>min</th>\n",
       "      <td>1.000000</td>\n",
       "      <td>1.000000</td>\n",
       "      <td>4.000000</td>\n",
       "      <td>1.000000</td>\n",
       "      <td>1.000000</td>\n",
       "      <td>0.000000</td>\n",
       "      <td>0.000000</td>\n",
       "      <td>448.000000</td>\n",
       "      <td>2125.000000</td>\n",
       "      <td>12.500000</td>\n",
       "      <td>0.000000</td>\n",
       "      <td>0.000000</td>\n",
       "      <td>NaN</td>\n",
       "    </tr>\n",
       "    <tr>\n",
       "      <th>25%</th>\n",
       "      <td>50.500000</td>\n",
       "      <td>1.000000</td>\n",
       "      <td>4.000000</td>\n",
       "      <td>8.000000</td>\n",
       "      <td>8.000000</td>\n",
       "      <td>0.000000</td>\n",
       "      <td>0.000000</td>\n",
       "      <td>1017.500000</td>\n",
       "      <td>57000.000000</td>\n",
       "      <td>87.500000</td>\n",
       "      <td>0.000000</td>\n",
       "      <td>0.000000</td>\n",
       "      <td>NaN</td>\n",
       "    </tr>\n",
       "    <tr>\n",
       "      <th>50%</th>\n",
       "      <td>100.000000</td>\n",
       "      <td>2.000000</td>\n",
       "      <td>5.000000</td>\n",
       "      <td>12.000000</td>\n",
       "      <td>12.000000</td>\n",
       "      <td>0.000000</td>\n",
       "      <td>1.000000</td>\n",
       "      <td>1150.000000</td>\n",
       "      <td>70500.000000</td>\n",
       "      <td>100.000000</td>\n",
       "      <td>2.941176</td>\n",
       "      <td>0.000000</td>\n",
       "      <td>NaN</td>\n",
       "    </tr>\n",
       "    <tr>\n",
       "      <th>75%</th>\n",
       "      <td>149.500000</td>\n",
       "      <td>2.000000</td>\n",
       "      <td>6.000000</td>\n",
       "      <td>15.500000</td>\n",
       "      <td>13.000000</td>\n",
       "      <td>1.000000</td>\n",
       "      <td>1.000000</td>\n",
       "      <td>1339.000000</td>\n",
       "      <td>86764.500000</td>\n",
       "      <td>100.000000</td>\n",
       "      <td>12.500000</td>\n",
       "      <td>12.500000</td>\n",
       "      <td>NaN</td>\n",
       "    </tr>\n",
       "    <tr>\n",
       "      <th>max</th>\n",
       "      <td>363.000000</td>\n",
       "      <td>2.000000</td>\n",
       "      <td>7.000000</td>\n",
       "      <td>34.000000</td>\n",
       "      <td>33.000000</td>\n",
       "      <td>19.000000</td>\n",
       "      <td>7.000000</td>\n",
       "      <td>2032.000000</td>\n",
       "      <td>220070.000000</td>\n",
       "      <td>100.000000</td>\n",
       "      <td>100.000000</td>\n",
       "      <td>237.500000</td>\n",
       "      <td>NaN</td>\n",
       "    </tr>\n",
       "  </tbody>\n",
       "</table>\n",
       "</div>"
      ],
      "text/plain": [
       "               id  child_gender   child_age  total_correct_responses  \\\n",
       "count  199.000000    199.000000  199.000000               199.000000   \n",
       "mean   132.050251      1.552764    5.381910                12.276382   \n",
       "std    112.972543      0.498462    1.116847                 5.034125   \n",
       "min      1.000000      1.000000    4.000000                 1.000000   \n",
       "25%     50.500000      1.000000    4.000000                 8.000000   \n",
       "50%    100.000000      2.000000    5.000000                12.000000   \n",
       "75%    149.500000      2.000000    6.000000                15.500000   \n",
       "max    363.000000      2.000000    7.000000                34.000000   \n",
       "\n",
       "       correct_responses  commission_errors  omission_errors  \\\n",
       "count         199.000000         199.000000       199.000000   \n",
       "mean           11.366834           1.246231         0.914573   \n",
       "std             5.032330           2.742239         1.270385   \n",
       "min             1.000000           0.000000         0.000000   \n",
       "25%             8.000000           0.000000         0.000000   \n",
       "50%            12.000000           0.000000         1.000000   \n",
       "75%            13.000000           1.000000         1.000000   \n",
       "max            33.000000          19.000000         7.000000   \n",
       "\n",
       "       mean_reaction_time  total_duration  percentage_no_of_correct_responses  \\\n",
       "count          199.000000      199.000000                          199.000000   \n",
       "mean          1179.095477    72018.110553                           91.297458   \n",
       "std            287.870913    26719.502614                           12.994899   \n",
       "min            448.000000     2125.000000                           12.500000   \n",
       "25%           1017.500000    57000.000000                           87.500000   \n",
       "50%           1150.000000    70500.000000                          100.000000   \n",
       "75%           1339.000000    86764.500000                          100.000000   \n",
       "max           2032.000000   220070.000000                          100.000000   \n",
       "\n",
       "              oer         cer  Unnamed: 14  \n",
       "count  199.000000  199.000000          0.0  \n",
       "mean     9.205054   10.413912          NaN  \n",
       "std     14.502696   24.112936          NaN  \n",
       "min      0.000000    0.000000          NaN  \n",
       "25%      0.000000    0.000000          NaN  \n",
       "50%      2.941176    0.000000          NaN  \n",
       "75%     12.500000   12.500000          NaN  \n",
       "max    100.000000  237.500000          NaN  "
      ]
     },
     "execution_count": 32,
     "metadata": {},
     "output_type": "execute_result"
    }
   ],
   "source": [
    "# Importing the dataset  \n",
    "dataset = pd.read_csv('data.csv')  \n",
    "dataset = dataset[dataset.mean_reaction_time != 0]\n",
    "dataset.head()\n",
    "# statistics of the data\n",
    "dataset.describe()"
   ]
  },
  {
   "cell_type": "code",
   "execution_count": 33,
   "id": "7516307f",
   "metadata": {
    "scrolled": true
   },
   "outputs": [
    {
     "data": {
      "text/plain": [
       "array([[1479],\n",
       "       [1605],\n",
       "       [1404],\n",
       "       [1782],\n",
       "       [1258],\n",
       "       [1043],\n",
       "       [1267],\n",
       "       [1439],\n",
       "       [1614],\n",
       "       [1540],\n",
       "       [1076],\n",
       "       [1144],\n",
       "       [1366],\n",
       "       [1525],\n",
       "       [1146],\n",
       "       [1135],\n",
       "       [1185],\n",
       "       [1375],\n",
       "       [ 912],\n",
       "       [ 823],\n",
       "       [1506],\n",
       "       [1489],\n",
       "       [1023],\n",
       "       [1397],\n",
       "       [ 961],\n",
       "       [ 804],\n",
       "       [1180],\n",
       "       [ 994],\n",
       "       [ 448],\n",
       "       [ 733],\n",
       "       [1083],\n",
       "       [ 771],\n",
       "       [ 668],\n",
       "       [ 838],\n",
       "       [1338],\n",
       "       [1106],\n",
       "       [ 987],\n",
       "       [1181],\n",
       "       [1179],\n",
       "       [1303],\n",
       "       [1384],\n",
       "       [1191],\n",
       "       [1335],\n",
       "       [1253],\n",
       "       [1239],\n",
       "       [1109],\n",
       "       [ 952],\n",
       "       [ 928],\n",
       "       [1428],\n",
       "       [1115],\n",
       "       [1157],\n",
       "       [1097],\n",
       "       [1160],\n",
       "       [1053],\n",
       "       [ 953],\n",
       "       [1303],\n",
       "       [1257],\n",
       "       [1008],\n",
       "       [1188],\n",
       "       [ 670],\n",
       "       [ 614],\n",
       "       [ 778],\n",
       "       [ 778],\n",
       "       [ 832],\n",
       "       [1173],\n",
       "       [1007],\n",
       "       [1025],\n",
       "       [1012],\n",
       "       [ 845],\n",
       "       [ 850],\n",
       "       [ 586],\n",
       "       [ 845],\n",
       "       [1033],\n",
       "       [ 867],\n",
       "       [ 901],\n",
       "       [ 955],\n",
       "       [ 780],\n",
       "       [ 694],\n",
       "       [ 719],\n",
       "       [1448],\n",
       "       [1331],\n",
       "       [1426],\n",
       "       [1632],\n",
       "       [1340],\n",
       "       [1564],\n",
       "       [1366],\n",
       "       [1291],\n",
       "       [2032],\n",
       "       [1789],\n",
       "       [1680],\n",
       "       [1317],\n",
       "       [1040],\n",
       "       [1142],\n",
       "       [1168],\n",
       "       [1150],\n",
       "       [1270],\n",
       "       [1457],\n",
       "       [1180],\n",
       "       [1261],\n",
       "       [1234],\n",
       "       [1165],\n",
       "       [1238],\n",
       "       [1830],\n",
       "       [1657],\n",
       "       [1817],\n",
       "       [1600],\n",
       "       [1396],\n",
       "       [1380],\n",
       "       [1350],\n",
       "       [1310],\n",
       "       [1462],\n",
       "       [1069],\n",
       "       [1221],\n",
       "       [1775],\n",
       "       [1852],\n",
       "       [1598],\n",
       "       [1785],\n",
       "       [1628],\n",
       "       [1758],\n",
       "       [1215],\n",
       "       [1134],\n",
       "       [1364],\n",
       "       [1499],\n",
       "       [1998],\n",
       "       [1916],\n",
       "       [1152],\n",
       "       [1086],\n",
       "       [1207],\n",
       "       [1047],\n",
       "       [1162],\n",
       "       [1278],\n",
       "       [1041],\n",
       "       [1298],\n",
       "       [1080],\n",
       "       [1284],\n",
       "       [1140],\n",
       "       [1125],\n",
       "       [ 819],\n",
       "       [ 783],\n",
       "       [ 901],\n",
       "       [ 976],\n",
       "       [ 826],\n",
       "       [ 855],\n",
       "       [ 885],\n",
       "       [1031],\n",
       "       [1082],\n",
       "       [1061],\n",
       "       [1374],\n",
       "       [ 940],\n",
       "       [1071],\n",
       "       [1102],\n",
       "       [1146],\n",
       "       [ 792],\n",
       "       [1070],\n",
       "       [1087],\n",
       "       [1230],\n",
       "       [1128],\n",
       "       [ 814],\n",
       "       [1326],\n",
       "       [1298],\n",
       "       [1500],\n",
       "       [1472],\n",
       "       [1523],\n",
       "       [1267],\n",
       "       [1501],\n",
       "       [1369],\n",
       "       [ 998],\n",
       "       [1655],\n",
       "       [1296],\n",
       "       [1173],\n",
       "       [ 851],\n",
       "       [1029],\n",
       "       [1056],\n",
       "       [1079],\n",
       "       [1059],\n",
       "       [1155],\n",
       "       [1254],\n",
       "       [ 757],\n",
       "       [ 824],\n",
       "       [ 971],\n",
       "       [ 785],\n",
       "       [1324],\n",
       "       [1024],\n",
       "       [1056],\n",
       "       [1025],\n",
       "       [1077],\n",
       "       [1098],\n",
       "       [ 926],\n",
       "       [1037],\n",
       "       [1023],\n",
       "       [1069],\n",
       "       [1225],\n",
       "       [1062],\n",
       "       [ 719],\n",
       "       [1045],\n",
       "       [1159],\n",
       "       [1257],\n",
       "       [1044],\n",
       "       [1083]], dtype=int64)"
      ]
     },
     "metadata": {},
     "output_type": "display_data"
    }
   ],
   "source": [
    "x = dataset.iloc[:, [7]].values  \n",
    "display(x)"
   ]
  },
  {
   "cell_type": "code",
   "execution_count": 34,
   "id": "d926c7d9",
   "metadata": {},
   "outputs": [
    {
     "data": {
      "text/plain": [
       "array([[ 1.04442960e+00],\n",
       "       [ 1.48322969e+00],\n",
       "       [ 7.83239076e-01],\n",
       "       [ 2.09963933e+00],\n",
       "       [ 2.74788184e-01],\n",
       "       [-4.73957992e-01],\n",
       "       [ 3.06131048e-01],\n",
       "       [ 9.05127989e-01],\n",
       "       [ 1.51457255e+00],\n",
       "       [ 1.25686456e+00],\n",
       "       [-3.59034161e-01],\n",
       "       [-1.22221416e-01],\n",
       "       [ 6.50902543e-01],\n",
       "       [ 1.20462646e+00],\n",
       "       [-1.15256336e-01],\n",
       "       [-1.53564280e-01],\n",
       "       [ 2.05627383e-02],\n",
       "       [ 6.82245406e-01],\n",
       "       [-9.30170779e-01],\n",
       "       [-1.24011687e+00],\n",
       "       [ 1.13845819e+00],\n",
       "       [ 1.07925501e+00],\n",
       "       [-5.43608800e-01],\n",
       "       [ 7.58861294e-01],\n",
       "       [-7.59526302e-01],\n",
       "       [-1.30628514e+00],\n",
       "       [ 3.15003650e-03],\n",
       "       [-6.44602470e-01],\n",
       "       [-2.54606950e+00],\n",
       "       [-1.55354550e+00],\n",
       "       [-3.34656378e-01],\n",
       "       [-1.42120897e+00],\n",
       "       [-1.77991063e+00],\n",
       "       [-1.18787877e+00],\n",
       "       [ 5.53391413e-01],\n",
       "       [-2.54557950e-01],\n",
       "       [-6.68980252e-01],\n",
       "       [ 6.63257686e-03],\n",
       "       [-3.32503853e-04],\n",
       "       [ 4.31502500e-01],\n",
       "       [ 7.13588269e-01],\n",
       "       [ 4.14579804e-02],\n",
       "       [ 5.42943792e-01],\n",
       "       [ 2.57375483e-01],\n",
       "       [ 2.08619918e-01],\n",
       "       [-2.44110329e-01],\n",
       "       [-7.90869165e-01],\n",
       "       [-8.74450133e-01],\n",
       "       [ 8.66820045e-01],\n",
       "       [-2.23215087e-01],\n",
       "       [-7.69483917e-02],\n",
       "       [-2.85900813e-01],\n",
       "       [-6.65007706e-02],\n",
       "       [-4.39132589e-01],\n",
       "       [-7.87386624e-01],\n",
       "       [ 4.31502500e-01],\n",
       "       [ 2.71305644e-01],\n",
       "       [-5.95846905e-01],\n",
       "       [ 3.10103594e-02],\n",
       "       [-1.77294555e+00],\n",
       "       [-1.96796781e+00],\n",
       "       [-1.39683119e+00],\n",
       "       [-1.39683119e+00],\n",
       "       [-1.20877401e+00],\n",
       "       [-2.12277460e-02],\n",
       "       [-5.99329445e-01],\n",
       "       [-5.36643719e-01],\n",
       "       [-5.81916743e-01],\n",
       "       [-1.16350098e+00],\n",
       "       [-1.14608828e+00],\n",
       "       [-2.06547894e+00],\n",
       "       [-1.16350098e+00],\n",
       "       [-5.08783396e-01],\n",
       "       [-1.08688510e+00],\n",
       "       [-9.68478723e-01],\n",
       "       [-7.80421544e-01],\n",
       "       [-1.38986611e+00],\n",
       "       [-1.68936458e+00],\n",
       "       [-1.60230107e+00],\n",
       "       [ 9.36470852e-01],\n",
       "       [ 5.29013630e-01],\n",
       "       [ 8.59854964e-01],\n",
       "       [ 1.57725828e+00],\n",
       "       [ 5.60356494e-01],\n",
       "       [ 1.34044553e+00],\n",
       "       [ 6.50902543e-01],\n",
       "       [ 3.89712016e-01],\n",
       "       [ 2.97027442e+00],\n",
       "       [ 2.12401711e+00],\n",
       "       [ 1.74442021e+00],\n",
       "       [ 4.80258065e-01],\n",
       "       [-4.84405613e-01],\n",
       "       [-1.29186497e-01],\n",
       "       [-3.86404478e-02],\n",
       "       [-1.01326174e-01],\n",
       "       [ 3.16578669e-01],\n",
       "       [ 9.67813715e-01],\n",
       "       [ 3.15003650e-03],\n",
       "       [ 2.85235805e-01],\n",
       "       [ 1.91207216e-01],\n",
       "       [-4.90880688e-02],\n",
       "       [ 2.05137377e-01],\n",
       "       [ 2.26680127e+00],\n",
       "       [ 1.66432179e+00],\n",
       "       [ 2.22152824e+00],\n",
       "       [ 1.46581699e+00],\n",
       "       [ 7.55378754e-01],\n",
       "       [ 6.99658108e-01],\n",
       "       [ 5.95181897e-01],\n",
       "       [ 4.55880283e-01],\n",
       "       [ 9.85226417e-01],\n",
       "       [-3.83411943e-01],\n",
       "       [ 1.45934191e-01],\n",
       "       [ 2.07526155e+00],\n",
       "       [ 2.34341716e+00],\n",
       "       [ 1.45885191e+00],\n",
       "       [ 2.11008695e+00],\n",
       "       [ 1.56332812e+00],\n",
       "       [ 2.01605836e+00],\n",
       "       [ 1.25038949e-01],\n",
       "       [-1.57046820e-01],\n",
       "       [ 6.43937462e-01],\n",
       "       [ 1.11408041e+00],\n",
       "       [ 2.85186805e+00],\n",
       "       [ 2.56629974e+00],\n",
       "       [-9.43610935e-02],\n",
       "       [-3.24208757e-01],\n",
       "       [ 9.71786261e-02],\n",
       "       [-4.60027831e-01],\n",
       "       [-5.95356899e-02],\n",
       "       [ 3.44438991e-01],\n",
       "       [-4.80923073e-01],\n",
       "       [ 4.14089799e-01],\n",
       "       [-3.45103999e-01],\n",
       "       [ 3.65334234e-01],\n",
       "       [-1.36151578e-01],\n",
       "       [-1.88389683e-01],\n",
       "       [-1.25404703e+00],\n",
       "       [-1.37941849e+00],\n",
       "       [-9.68478723e-01],\n",
       "       [-7.07288196e-01],\n",
       "       [-1.22966925e+00],\n",
       "       [-1.12867558e+00],\n",
       "       [-1.02419937e+00],\n",
       "       [-5.15748477e-01],\n",
       "       [-3.38138918e-01],\n",
       "       [-4.11272266e-01],\n",
       "       [ 6.78762866e-01],\n",
       "       [-8.32659649e-01],\n",
       "       [-3.76446862e-01],\n",
       "       [-2.68488111e-01],\n",
       "       [-1.15256336e-01],\n",
       "       [-1.34807562e+00],\n",
       "       [-3.79929403e-01],\n",
       "       [-3.20726217e-01],\n",
       "       [ 1.77277054e-01],\n",
       "       [-1.77942062e-01],\n",
       "       [-1.27145973e+00],\n",
       "       [ 5.11600929e-01],\n",
       "       [ 4.14089799e-01],\n",
       "       [ 1.11756295e+00],\n",
       "       [ 1.02005182e+00],\n",
       "       [ 1.19766138e+00],\n",
       "       [ 3.06131048e-01],\n",
       "       [ 1.12104549e+00],\n",
       "       [ 6.61350164e-01],\n",
       "       [-6.30672308e-01],\n",
       "       [ 1.65735671e+00],\n",
       "       [ 4.07124718e-01],\n",
       "       [-2.12277460e-02],\n",
       "       [-1.14260574e+00],\n",
       "       [-5.22713557e-01],\n",
       "       [-4.28684968e-01],\n",
       "       [-3.48586540e-01],\n",
       "       [-4.18237347e-01],\n",
       "       [-8.39134724e-02],\n",
       "       [ 2.60858023e-01],\n",
       "       [-1.46996453e+00],\n",
       "       [-1.23663433e+00],\n",
       "       [-7.24700898e-01],\n",
       "       [-1.37245340e+00],\n",
       "       [ 5.04635848e-01],\n",
       "       [-5.40126259e-01],\n",
       "       [-4.28684968e-01],\n",
       "       [-5.36643719e-01],\n",
       "       [-3.55551620e-01],\n",
       "       [-2.82418273e-01],\n",
       "       [-8.81415214e-01],\n",
       "       [-4.94853235e-01],\n",
       "       [-5.43608800e-01],\n",
       "       [-3.83411943e-01],\n",
       "       [ 1.59864353e-01],\n",
       "       [-4.07789726e-01],\n",
       "       [-1.60230107e+00],\n",
       "       [-4.66992912e-01],\n",
       "       [-6.99833110e-02],\n",
       "       [ 2.71305644e-01],\n",
       "       [-4.70475452e-01],\n",
       "       [-3.34656378e-01]])"
      ]
     },
     "metadata": {},
     "output_type": "display_data"
    }
   ],
   "source": [
    "# standardizing the data\n",
    "from sklearn.preprocessing import StandardScaler\n",
    "scaler = StandardScaler()\n",
    "new_df = scaler.fit_transform(x)\n",
    "\n",
    "# statistics of scaled data\n",
    "pd.DataFrame(new_df).describe()\n",
    "\n",
    "display(new_df)"
   ]
  },
  {
   "cell_type": "code",
   "execution_count": 39,
   "id": "bb9f5908",
   "metadata": {},
   "outputs": [
    {
     "ename": "ValueError",
     "evalue": "Columns must be same length as key",
     "output_type": "error",
     "traceback": [
      "\u001b[1;31m---------------------------------------------------------------------------\u001b[0m",
      "\u001b[1;31mValueError\u001b[0m                                Traceback (most recent call last)",
      "Input \u001b[1;32mIn [39]\u001b[0m, in \u001b[0;36m<cell line: 2>\u001b[1;34m()\u001b[0m\n\u001b[0;32m      1\u001b[0m x \u001b[38;5;241m=\u001b[39m dataset\u001b[38;5;241m.\u001b[39miloc[:, [\u001b[38;5;241m2\u001b[39m, \u001b[38;5;241m7\u001b[39m]]\n\u001b[1;32m----> 2\u001b[0m x[\u001b[38;5;124m'\u001b[39m\u001b[38;5;124mmean_reaction_time\u001b[39m\u001b[38;5;124m'\u001b[39m] \u001b[38;5;241m=\u001b[39m new_df\n\u001b[0;32m      3\u001b[0m x\u001b[38;5;241m.\u001b[39mhead()\n\u001b[0;32m      4\u001b[0m display(x)\n",
      "File \u001b[1;32mc:\\users\\anuththara\\appdata\\local\\programs\\python\\python39\\lib\\site-packages\\pandas\\core\\frame.py:3645\u001b[0m, in \u001b[0;36mDataFrame.__setitem__\u001b[1;34m(self, key, value)\u001b[0m\n\u001b[0;32m   3643\u001b[0m     \u001b[38;5;28mself\u001b[39m\u001b[38;5;241m.\u001b[39m_setitem_array(key, value)\n\u001b[0;32m   3644\u001b[0m \u001b[38;5;28;01melif\u001b[39;00m \u001b[38;5;28misinstance\u001b[39m(value, DataFrame):\n\u001b[1;32m-> 3645\u001b[0m     \u001b[38;5;28;43mself\u001b[39;49m\u001b[38;5;241;43m.\u001b[39;49m\u001b[43m_set_item_frame_value\u001b[49m\u001b[43m(\u001b[49m\u001b[43mkey\u001b[49m\u001b[43m,\u001b[49m\u001b[43m \u001b[49m\u001b[43mvalue\u001b[49m\u001b[43m)\u001b[49m\n\u001b[0;32m   3646\u001b[0m \u001b[38;5;28;01melif\u001b[39;00m (\n\u001b[0;32m   3647\u001b[0m     is_list_like(value)\n\u001b[0;32m   3648\u001b[0m     \u001b[38;5;129;01mand\u001b[39;00m \u001b[38;5;129;01mnot\u001b[39;00m \u001b[38;5;28mself\u001b[39m\u001b[38;5;241m.\u001b[39mcolumns\u001b[38;5;241m.\u001b[39mis_unique\n\u001b[0;32m   3649\u001b[0m     \u001b[38;5;129;01mand\u001b[39;00m \u001b[38;5;241m1\u001b[39m \u001b[38;5;241m<\u001b[39m \u001b[38;5;28mlen\u001b[39m(\u001b[38;5;28mself\u001b[39m\u001b[38;5;241m.\u001b[39mcolumns\u001b[38;5;241m.\u001b[39mget_indexer_for([key])) \u001b[38;5;241m==\u001b[39m \u001b[38;5;28mlen\u001b[39m(value)\n\u001b[0;32m   3650\u001b[0m ):\n\u001b[0;32m   3651\u001b[0m     \u001b[38;5;66;03m# Column to set is duplicated\u001b[39;00m\n\u001b[0;32m   3652\u001b[0m     \u001b[38;5;28mself\u001b[39m\u001b[38;5;241m.\u001b[39m_setitem_array([key], value)\n",
      "File \u001b[1;32mc:\\users\\anuththara\\appdata\\local\\programs\\python\\python39\\lib\\site-packages\\pandas\\core\\frame.py:3775\u001b[0m, in \u001b[0;36mDataFrame._set_item_frame_value\u001b[1;34m(self, key, value)\u001b[0m\n\u001b[0;32m   3773\u001b[0m len_cols \u001b[38;5;241m=\u001b[39m \u001b[38;5;241m1\u001b[39m \u001b[38;5;28;01mif\u001b[39;00m is_scalar(cols) \u001b[38;5;28;01melse\u001b[39;00m \u001b[38;5;28mlen\u001b[39m(cols)\n\u001b[0;32m   3774\u001b[0m \u001b[38;5;28;01mif\u001b[39;00m len_cols \u001b[38;5;241m!=\u001b[39m \u001b[38;5;28mlen\u001b[39m(value\u001b[38;5;241m.\u001b[39mcolumns):\n\u001b[1;32m-> 3775\u001b[0m     \u001b[38;5;28;01mraise\u001b[39;00m \u001b[38;5;167;01mValueError\u001b[39;00m(\u001b[38;5;124m\"\u001b[39m\u001b[38;5;124mColumns must be same length as key\u001b[39m\u001b[38;5;124m\"\u001b[39m)\n\u001b[0;32m   3777\u001b[0m \u001b[38;5;66;03m# align right-hand-side columns if self.columns\u001b[39;00m\n\u001b[0;32m   3778\u001b[0m \u001b[38;5;66;03m# is multi-index and self[key] is a sub-frame\u001b[39;00m\n\u001b[0;32m   3779\u001b[0m \u001b[38;5;28;01mif\u001b[39;00m \u001b[38;5;28misinstance\u001b[39m(\u001b[38;5;28mself\u001b[39m\u001b[38;5;241m.\u001b[39mcolumns, MultiIndex) \u001b[38;5;129;01mand\u001b[39;00m \u001b[38;5;28misinstance\u001b[39m(\n\u001b[0;32m   3780\u001b[0m     loc, (\u001b[38;5;28mslice\u001b[39m, Series, np\u001b[38;5;241m.\u001b[39mndarray, Index)\n\u001b[0;32m   3781\u001b[0m ):\n",
      "\u001b[1;31mValueError\u001b[0m: Columns must be same length as key"
     ]
    }
   ],
   "source": [
    "x = dataset.iloc[:, [2, 7]].copy()\n",
    "x['mean_reaction_time'] = new_df\n",
    "x.head()\n",
    "display(x)"
   ]
  },
  {
   "cell_type": "code",
   "execution_count": 36,
   "id": "ea8688fa",
   "metadata": {},
   "outputs": [
    {
     "data": {
      "image/png": "[encoded data removed]",
      "text/plain": [
       "<Figure size 432x288 with 1 Axes>"
      ]
     },
     "metadata": {
      "needs_background": "light"
     },
     "output_type": "display_data"
    }
   ],
   "source": [
    "# Finding the optimal number of clusters using the elbow method\n",
    "from sklearn.cluster import KMeans  \n",
    "wcss_list= []  #Initializing the list for the values of WCSS  \n",
    "  \n",
    "#Using for loop for iterations from 1 to 10.  \n",
    "for i in range(1, 11):  \n",
    "    kmeans = KMeans(n_clusters=i, init='k-means++', random_state= 42)  \n",
    "    kmeans.fit(x)  \n",
    "    wcss_list.append(kmeans.inertia_)  \n",
    "mtp.plot(range(1, 11), wcss_list)  \n",
    "mtp.title('The Elobw Method Graph')  \n",
    "mtp.xlabel('Number of clusters(k)')  \n",
    "mtp.ylabel('wcss_list')  \n",
    "mtp.show()"
   ]
  },
  {
   "cell_type": "code",
   "execution_count": 37,
   "id": "330980a3",
   "metadata": {},
   "outputs": [
    {
     "name": "stdout",
     "output_type": "stream",
     "text": [
      "[0 0 0 0 0 0 0 0 0 0 0 0 0 0 0 0 0 0 1 1 0 0 1 1 1 1 1 1 1 1 1 1 1 1 1 1 1\n",
      " 1 1 0 0 0 0 0 0 0 0 0 0 0 0 0 0 0 1 0 0 0 0 1 1 1 1 1 1 1 1 1 1 1 1 1 1 1\n",
      " 1 1 1 1 1 0 0 0 0 0 0 0 0 0 0 0 0 0 0 0 0 0 0 0 0 0 0 0 0 0 0 0 0 0 0 0 0\n",
      " 0 0 0 0 0 0 0 0 0 0 0 0 0 0 0 0 0 0 0 0 1 1 1 1 1 1 1 1 1 1 1 1 1 1 1 1 1\n",
      " 1 1 1 1 1 1 1 1 1 1 1 1 0 0 0 0 0 0 0 0 0 0 1 0 0 0 0 0 0 1 1 1 1 1 1 1 1\n",
      " 1 1 1 1 1 1 1 1 1 1 1 1 1 1]\n"
     ]
    },
    {
     "ename": "InvalidIndexError",
     "evalue": "(array([ True,  True,  True,  True,  True,  True,  True,  True,  True,\n        True,  True,  True,  True,  True,  True,  True,  True,  True,\n       False, False,  True,  True, False, False, False, False, False,\n       False, False, False, False, False, False, False, False, False,\n       False, False, False,  True,  True,  True,  True,  True,  True,\n        True,  True,  True,  True,  True,  True,  True,  True,  True,\n       False,  True,  True,  True,  True, False, False, False, False,\n       False, False, False, False, False, False, False, False, False,\n       False, False, False, False, False, False, False,  True,  True,\n        True,  True,  True,  True,  True,  True,  True,  True,  True,\n        True,  True,  True,  True,  True,  True,  True,  True,  True,\n        True,  True,  True,  True,  True,  True,  True,  True,  True,\n        True,  True,  True,  True,  True,  True,  True,  True,  True,\n        True,  True,  True,  True,  True,  True,  True,  True,  True,\n        True,  True,  True,  True,  True, False, False, False, False,\n       False, False, False, False, False, False, False, False, False,\n       False, False, False, False, False, False, False, False, False,\n       False, False, False, False, False, False, False,  True,  True,\n        True,  True,  True,  True,  True,  True,  True,  True, False,\n        True,  True,  True,  True,  True,  True, False, False, False,\n       False, False, False, False, False, False, False, False, False,\n       False, False, False, False, False, False, False, False, False,\n       False]), 0)",
     "output_type": "error",
     "traceback": [
      "\u001b[1;31m---------------------------------------------------------------------------\u001b[0m",
      "\u001b[1;31mTypeError\u001b[0m                                 Traceback (most recent call last)",
      "File \u001b[1;32mc:\\users\\anuththara\\appdata\\local\\programs\\python\\python39\\lib\\site-packages\\pandas\\core\\indexes\\base.py:3621\u001b[0m, in \u001b[0;36mIndex.get_loc\u001b[1;34m(self, key, method, tolerance)\u001b[0m\n\u001b[0;32m   3620\u001b[0m \u001b[38;5;28;01mtry\u001b[39;00m:\n\u001b[1;32m-> 3621\u001b[0m     \u001b[38;5;28;01mreturn\u001b[39;00m \u001b[38;5;28;43mself\u001b[39;49m\u001b[38;5;241;43m.\u001b[39;49m\u001b[43m_engine\u001b[49m\u001b[38;5;241;43m.\u001b[39;49m\u001b[43mget_loc\u001b[49m\u001b[43m(\u001b[49m\u001b[43mcasted_key\u001b[49m\u001b[43m)\u001b[49m\n\u001b[0;32m   3622\u001b[0m \u001b[38;5;28;01mexcept\u001b[39;00m \u001b[38;5;167;01mKeyError\u001b[39;00m \u001b[38;5;28;01mas\u001b[39;00m err:\n",
      "File \u001b[1;32mc:\\users\\anuththara\\appdata\\local\\programs\\python\\python39\\lib\\site-packages\\pandas\\_libs\\index.pyx:136\u001b[0m, in \u001b[0;36mpandas._libs.index.IndexEngine.get_loc\u001b[1;34m()\u001b[0m\n",
      "File \u001b[1;32mc:\\users\\anuththara\\appdata\\local\\programs\\python\\python39\\lib\\site-packages\\pandas\\_libs\\index.pyx:142\u001b[0m, in \u001b[0;36mpandas._libs.index.IndexEngine.get_loc\u001b[1;34m()\u001b[0m\n",
      "\u001b[1;31mTypeError\u001b[0m: '(array([ True,  True,  True,  True,  True,  True,  True,  True,  True,\n        True,  True,  True,  True,  True,  True,  True,  True,  True,\n       False, False,  True,  True, False, False, False, False, False,\n       False, False, False, False, False, False, False, False, False,\n       False, False, False,  True,  True,  True,  True,  True,  True,\n        True,  True,  True,  True,  True,  True,  True,  True,  True,\n       False,  True,  True,  True,  True, False, False, False, False,\n       False, False, False, False, False, False, False, False, False,\n       False, False, False, False, False, False, False,  True,  True,\n        True,  True,  True,  True,  True,  True,  True,  True,  True,\n        True,  True,  True,  True,  True,  True,  True,  True,  True,\n        True,  True,  True,  True,  True,  True,  True,  True,  True,\n        True,  True,  True,  True,  True,  True,  True,  True,  True,\n        True,  True,  True,  True,  True,  True,  True,  True,  True,\n        True,  True,  True,  True,  True, False, False, False, False,\n       False, False, False, False, False, False, False, False, False,\n       False, False, False, False, False, False, False, False, False,\n       False, False, False, False, False, False, False,  True,  True,\n        True,  True,  True,  True,  True,  True,  True,  True, False,\n        True,  True,  True,  True,  True,  True, False, False, False,\n       False, False, False, False, False, False, False, False, False,\n       False, False, False, False, False, False, False, False, False,\n       False]), 0)' is an invalid key",
      "\nDuring handling of the above exception, another exception occurred:\n",
      "\u001b[1;31mInvalidIndexError\u001b[0m                         Traceback (most recent call last)",
      "Input \u001b[1;32mIn [37]\u001b[0m, in \u001b[0;36m<cell line: 7>\u001b[1;34m()\u001b[0m\n\u001b[0;32m      4\u001b[0m \u001b[38;5;28mprint\u001b[39m(y_predict)\n\u001b[0;32m      6\u001b[0m \u001b[38;5;66;03m#visulaizing the clusters  \u001b[39;00m\n\u001b[1;32m----> 7\u001b[0m mtp\u001b[38;5;241m.\u001b[39mscatter(\u001b[43mx\u001b[49m\u001b[43m[\u001b[49m\u001b[43my_predict\u001b[49m\u001b[43m \u001b[49m\u001b[38;5;241;43m==\u001b[39;49m\u001b[43m \u001b[49m\u001b[38;5;241;43m0\u001b[39;49m\u001b[43m,\u001b[49m\u001b[43m \u001b[49m\u001b[38;5;241;43m0\u001b[39;49m\u001b[43m]\u001b[49m, x[y_predict \u001b[38;5;241m==\u001b[39m \u001b[38;5;241m0\u001b[39m, \u001b[38;5;241m1\u001b[39m], s \u001b[38;5;241m=\u001b[39m \u001b[38;5;241m100\u001b[39m, c \u001b[38;5;241m=\u001b[39m \u001b[38;5;124m'\u001b[39m\u001b[38;5;124mblue\u001b[39m\u001b[38;5;124m'\u001b[39m, label \u001b[38;5;241m=\u001b[39m \u001b[38;5;124m'\u001b[39m\u001b[38;5;124mCluster 1\u001b[39m\u001b[38;5;124m'\u001b[39m) \u001b[38;5;66;03m#for first cluster  \u001b[39;00m\n\u001b[0;32m      8\u001b[0m mtp\u001b[38;5;241m.\u001b[39mscatter(x[y_predict \u001b[38;5;241m==\u001b[39m \u001b[38;5;241m1\u001b[39m, \u001b[38;5;241m0\u001b[39m], x[y_predict \u001b[38;5;241m==\u001b[39m \u001b[38;5;241m1\u001b[39m, \u001b[38;5;241m1\u001b[39m], s \u001b[38;5;241m=\u001b[39m \u001b[38;5;241m100\u001b[39m, c \u001b[38;5;241m=\u001b[39m \u001b[38;5;124m'\u001b[39m\u001b[38;5;124mgreen\u001b[39m\u001b[38;5;124m'\u001b[39m, label \u001b[38;5;241m=\u001b[39m \u001b[38;5;124m'\u001b[39m\u001b[38;5;124mCluster 2\u001b[39m\u001b[38;5;124m'\u001b[39m) \u001b[38;5;66;03m#for second cluster  \u001b[39;00m\n\u001b[0;32m      9\u001b[0m \u001b[38;5;66;03m#mtp.scatter(x[y_predict== 2, 0], x[y_predict == 2, 1], s = 100, c = 'red', label = 'Cluster 3') #for third cluster \u001b[39;00m\n\u001b[0;32m     10\u001b[0m \u001b[38;5;66;03m#mtp.scatter(x[y_predict== 3, 0], x[y_predict == 3, 1], s = 100, c = 'deeppink', label = 'Cluster 4') #for third cluster    \u001b[39;00m\n",
      "File \u001b[1;32mc:\\users\\anuththara\\appdata\\local\\programs\\python\\python39\\lib\\site-packages\\pandas\\core\\frame.py:3505\u001b[0m, in \u001b[0;36mDataFrame.__getitem__\u001b[1;34m(self, key)\u001b[0m\n\u001b[0;32m   3503\u001b[0m \u001b[38;5;28;01mif\u001b[39;00m \u001b[38;5;28mself\u001b[39m\u001b[38;5;241m.\u001b[39mcolumns\u001b[38;5;241m.\u001b[39mnlevels \u001b[38;5;241m>\u001b[39m \u001b[38;5;241m1\u001b[39m:\n\u001b[0;32m   3504\u001b[0m     \u001b[38;5;28;01mreturn\u001b[39;00m \u001b[38;5;28mself\u001b[39m\u001b[38;5;241m.\u001b[39m_getitem_multilevel(key)\n\u001b[1;32m-> 3505\u001b[0m indexer \u001b[38;5;241m=\u001b[39m \u001b[38;5;28;43mself\u001b[39;49m\u001b[38;5;241;43m.\u001b[39;49m\u001b[43mcolumns\u001b[49m\u001b[38;5;241;43m.\u001b[39;49m\u001b[43mget_loc\u001b[49m\u001b[43m(\u001b[49m\u001b[43mkey\u001b[49m\u001b[43m)\u001b[49m\n\u001b[0;32m   3506\u001b[0m \u001b[38;5;28;01mif\u001b[39;00m is_integer(indexer):\n\u001b[0;32m   3507\u001b[0m     indexer \u001b[38;5;241m=\u001b[39m [indexer]\n",
      "File \u001b[1;32mc:\\users\\anuththara\\appdata\\local\\programs\\python\\python39\\lib\\site-packages\\pandas\\core\\indexes\\base.py:3628\u001b[0m, in \u001b[0;36mIndex.get_loc\u001b[1;34m(self, key, method, tolerance)\u001b[0m\n\u001b[0;32m   3623\u001b[0m         \u001b[38;5;28;01mraise\u001b[39;00m \u001b[38;5;167;01mKeyError\u001b[39;00m(key) \u001b[38;5;28;01mfrom\u001b[39;00m \u001b[38;5;21;01merr\u001b[39;00m\n\u001b[0;32m   3624\u001b[0m     \u001b[38;5;28;01mexcept\u001b[39;00m \u001b[38;5;167;01mTypeError\u001b[39;00m:\n\u001b[0;32m   3625\u001b[0m         \u001b[38;5;66;03m# If we have a listlike key, _check_indexing_error will raise\u001b[39;00m\n\u001b[0;32m   3626\u001b[0m         \u001b[38;5;66;03m#  InvalidIndexError. Otherwise we fall through and re-raise\u001b[39;00m\n\u001b[0;32m   3627\u001b[0m         \u001b[38;5;66;03m#  the TypeError.\u001b[39;00m\n\u001b[1;32m-> 3628\u001b[0m         \u001b[38;5;28;43mself\u001b[39;49m\u001b[38;5;241;43m.\u001b[39;49m\u001b[43m_check_indexing_error\u001b[49m\u001b[43m(\u001b[49m\u001b[43mkey\u001b[49m\u001b[43m)\u001b[49m\n\u001b[0;32m   3629\u001b[0m         \u001b[38;5;28;01mraise\u001b[39;00m\n\u001b[0;32m   3631\u001b[0m \u001b[38;5;66;03m# GH#42269\u001b[39;00m\n",
      "File \u001b[1;32mc:\\users\\anuththara\\appdata\\local\\programs\\python\\python39\\lib\\site-packages\\pandas\\core\\indexes\\base.py:5637\u001b[0m, in \u001b[0;36mIndex._check_indexing_error\u001b[1;34m(self, key)\u001b[0m\n\u001b[0;32m   5633\u001b[0m \u001b[38;5;28;01mdef\u001b[39;00m \u001b[38;5;21m_check_indexing_error\u001b[39m(\u001b[38;5;28mself\u001b[39m, key):\n\u001b[0;32m   5634\u001b[0m     \u001b[38;5;28;01mif\u001b[39;00m \u001b[38;5;129;01mnot\u001b[39;00m is_scalar(key):\n\u001b[0;32m   5635\u001b[0m         \u001b[38;5;66;03m# if key is not a scalar, directly raise an error (the code below\u001b[39;00m\n\u001b[0;32m   5636\u001b[0m         \u001b[38;5;66;03m# would convert to numpy arrays and raise later any way) - GH29926\u001b[39;00m\n\u001b[1;32m-> 5637\u001b[0m         \u001b[38;5;28;01mraise\u001b[39;00m InvalidIndexError(key)\n",
      "\u001b[1;31mInvalidIndexError\u001b[0m: (array([ True,  True,  True,  True,  True,  True,  True,  True,  True,\n        True,  True,  True,  True,  True,  True,  True,  True,  True,\n       False, False,  True,  True, False, False, False, False, False,\n       False, False, False, False, False, False, False, False, False,\n       False, False, False,  True,  True,  True,  True,  True,  True,\n        True,  True,  True,  True,  True,  True,  True,  True,  True,\n       False,  True,  True,  True,  True, False, False, False, False,\n       False, False, False, False, False, False, False, False, False,\n       False, False, False, False, False, False, False,  True,  True,\n        True,  True,  True,  True,  True,  True,  True,  True,  True,\n        True,  True,  True,  True,  True,  True,  True,  True,  True,\n        True,  True,  True,  True,  True,  True,  True,  True,  True,\n        True,  True,  True,  True,  True,  True,  True,  True,  True,\n        True,  True,  True,  True,  True,  True,  True,  True,  True,\n        True,  True,  True,  True,  True, False, False, False, False,\n       False, False, False, False, False, False, False, False, False,\n       False, False, False, False, False, False, False, False, False,\n       False, False, False, False, False, False, False,  True,  True,\n        True,  True,  True,  True,  True,  True,  True,  True, False,\n        True,  True,  True,  True,  True,  True, False, False, False,\n       False, False, False, False, False, False, False, False, False,\n       False, False, False, False, False, False, False, False, False,\n       False]), 0)"
     ]
    }
   ],
   "source": [
    "#training the K-means model on a dataset  \n",
    "kmeans = KMeans(n_clusters=2, init='k-means++', random_state= 42)  \n",
    "y_predict= kmeans.fit_predict(x)  \n",
    "print(y_predict)\n",
    "\n",
    "#visulaizing the clusters  \n",
    "mtp.scatter(x[y_predict == 0, 0], x[y_predict == 0, 1], s = 100, c = 'blue', label = 'Cluster 1') #for first cluster  \n",
    "mtp.scatter(x[y_predict == 1, 0], x[y_predict == 1, 1], s = 100, c = 'green', label = 'Cluster 2') #for second cluster  \n",
    "#mtp.scatter(x[y_predict== 2, 0], x[y_predict == 2, 1], s = 100, c = 'red', label = 'Cluster 3') #for third cluster \n",
    "#mtp.scatter(x[y_predict== 3, 0], x[y_predict == 3, 1], s = 100, c = 'deeppink', label = 'Cluster 4') #for third cluster    \n",
    "mtp.scatter(kmeans.cluster_centers_[:, 0], kmeans.cluster_centers_[:, 1], s = 300, c = 'yellow', label = 'Centroid')   \n",
    "mtp.title('Clusters of children')  \n",
    "mtp.xlabel('Mean Reaction Time')  \n",
    "mtp.ylabel('Age')  \n",
    "mtp.legend()  \n",
    "mtp.show()  "
   ]
  },
  {
   "cell_type": "code",
   "execution_count": 7,
   "id": "df80a640",
   "metadata": {},
   "outputs": [
    {
     "name": "stdout",
     "output_type": "stream",
     "text": [
      "[[-1.24045144  1.16949503]]\n"
     ]
    },
    {
     "data": {
      "text/plain": [
       "array([0])"
      ]
     },
     "execution_count": 7,
     "metadata": {},
     "output_type": "execute_result"
    }
   ],
   "source": [
    "print(scaler.transform([[4, 1520]]))\n",
    "kmeans.predict(scaler.transform([[4, 1520]]))"
   ]
  },
  {
   "cell_type": "code",
   "execution_count": 38,
   "id": "32052143",
   "metadata": {},
   "outputs": [
    {
     "data": {
      "text/html": [
       "<div>\n",
       "<style scoped>\n",
       "    .dataframe tbody tr th:only-of-type {\n",
       "        vertical-align: middle;\n",
       "    }\n",
       "\n",
       "    .dataframe tbody tr th {\n",
       "        vertical-align: top;\n",
       "    }\n",
       "\n",
       "    .dataframe thead th {\n",
       "        text-align: right;\n",
       "    }\n",
       "</style>\n",
       "<table border=\"1\" class=\"dataframe\">\n",
       "  <thead>\n",
       "    <tr style=\"text-align: right;\">\n",
       "      <th></th>\n",
       "      <th>child_age</th>\n",
       "      <th>mean_reaction_time</th>\n",
       "      <th>clusters</th>\n",
       "    </tr>\n",
       "  </thead>\n",
       "  <tbody>\n",
       "    <tr>\n",
       "      <th>0</th>\n",
       "      <td>4</td>\n",
       "      <td>1479</td>\n",
       "      <td>0</td>\n",
       "    </tr>\n",
       "    <tr>\n",
       "      <th>1</th>\n",
       "      <td>4</td>\n",
       "      <td>1605</td>\n",
       "      <td>0</td>\n",
       "    </tr>\n",
       "    <tr>\n",
       "      <th>2</th>\n",
       "      <td>4</td>\n",
       "      <td>1404</td>\n",
       "      <td>0</td>\n",
       "    </tr>\n",
       "    <tr>\n",
       "      <th>3</th>\n",
       "      <td>4</td>\n",
       "      <td>1782</td>\n",
       "      <td>0</td>\n",
       "    </tr>\n",
       "    <tr>\n",
       "      <th>4</th>\n",
       "      <td>4</td>\n",
       "      <td>1258</td>\n",
       "      <td>0</td>\n",
       "    </tr>\n",
       "    <tr>\n",
       "      <th>...</th>\n",
       "      <td>...</td>\n",
       "      <td>...</td>\n",
       "      <td>...</td>\n",
       "    </tr>\n",
       "    <tr>\n",
       "      <th>358</th>\n",
       "      <td>7</td>\n",
       "      <td>1045</td>\n",
       "      <td>1</td>\n",
       "    </tr>\n",
       "    <tr>\n",
       "      <th>359</th>\n",
       "      <td>7</td>\n",
       "      <td>1159</td>\n",
       "      <td>1</td>\n",
       "    </tr>\n",
       "    <tr>\n",
       "      <th>360</th>\n",
       "      <td>7</td>\n",
       "      <td>1257</td>\n",
       "      <td>1</td>\n",
       "    </tr>\n",
       "    <tr>\n",
       "      <th>361</th>\n",
       "      <td>7</td>\n",
       "      <td>1044</td>\n",
       "      <td>1</td>\n",
       "    </tr>\n",
       "    <tr>\n",
       "      <th>362</th>\n",
       "      <td>7</td>\n",
       "      <td>1083</td>\n",
       "      <td>1</td>\n",
       "    </tr>\n",
       "  </tbody>\n",
       "</table>\n",
       "<p>199 rows × 3 columns</p>\n",
       "</div>"
      ],
      "text/plain": [
       "     child_age  mean_reaction_time  clusters\n",
       "0            4                1479         0\n",
       "1            4                1605         0\n",
       "2            4                1404         0\n",
       "3            4                1782         0\n",
       "4            4                1258         0\n",
       "..         ...                 ...       ...\n",
       "358          7                1045         1\n",
       "359          7                1159         1\n",
       "360          7                1257         1\n",
       "361          7                1044         1\n",
       "362          7                1083         1\n",
       "\n",
       "[199 rows x 3 columns]"
      ]
     },
     "metadata": {},
     "output_type": "display_data"
    }
   ],
   "source": [
    "new_df = dataset.iloc[:, [2, 7]].copy()\n",
    "new_df['clusters'] = y_predict\n",
    "new_df.head()\n",
    "display(new_df)"
   ]
  },
  {
   "cell_type": "markdown",
   "id": "66aa30cf",
   "metadata": {},
   "source": [
    "# Cluster Analysis"
   ]
  },
  {
   "cell_type": "markdown",
   "id": "d34394fc",
   "metadata": {},
   "source": [
    "## Cluster 1"
   ]
  },
  {
   "cell_type": "code",
   "execution_count": 9,
   "id": "56332554",
   "metadata": {},
   "outputs": [
    {
     "data": {
      "text/plain": [
       "106"
      ]
     },
     "execution_count": 9,
     "metadata": {},
     "output_type": "execute_result"
    }
   ],
   "source": [
    "len(new_df[new_df[\"clusters\"] == 0])"
   ]
  },
  {
   "cell_type": "code",
   "execution_count": 10,
   "id": "1757175b",
   "metadata": {},
   "outputs": [
    {
     "name": "stdout",
     "output_type": "stream",
     "text": [
      "928\n",
      "2032\n"
     ]
    }
   ],
   "source": [
    "cluster_1 = new_df[new_df[\"clusters\"] == 0 ]\n",
    "\n",
    "maxVal = cluster_1['mean_reaction_time'].max()\n",
    "minVal = cluster_1['mean_reaction_time'].min()\n",
    "\n",
    "print(minVal)\n",
    "print(maxVal)"
   ]
  },
  {
   "cell_type": "code",
   "execution_count": 11,
   "id": "febd13f6",
   "metadata": {},
   "outputs": [
    {
     "data": {
      "text/html": [
       "<div>\n",
       "<style scoped>\n",
       "    .dataframe tbody tr th:only-of-type {\n",
       "        vertical-align: middle;\n",
       "    }\n",
       "\n",
       "    .dataframe tbody tr th {\n",
       "        vertical-align: top;\n",
       "    }\n",
       "\n",
       "    .dataframe thead th {\n",
       "        text-align: right;\n",
       "    }\n",
       "</style>\n",
       "<table border=\"1\" class=\"dataframe\">\n",
       "  <thead>\n",
       "    <tr style=\"text-align: right;\">\n",
       "      <th></th>\n",
       "      <th>child_age</th>\n",
       "      <th>mean_reaction_time</th>\n",
       "      <th>clusters</th>\n",
       "    </tr>\n",
       "  </thead>\n",
       "  <tbody>\n",
       "    <tr>\n",
       "      <th>0</th>\n",
       "      <td>4</td>\n",
       "      <td>1479</td>\n",
       "      <td>0</td>\n",
       "    </tr>\n",
       "    <tr>\n",
       "      <th>1</th>\n",
       "      <td>4</td>\n",
       "      <td>1605</td>\n",
       "      <td>0</td>\n",
       "    </tr>\n",
       "    <tr>\n",
       "      <th>2</th>\n",
       "      <td>4</td>\n",
       "      <td>1404</td>\n",
       "      <td>0</td>\n",
       "    </tr>\n",
       "    <tr>\n",
       "      <th>3</th>\n",
       "      <td>4</td>\n",
       "      <td>1782</td>\n",
       "      <td>0</td>\n",
       "    </tr>\n",
       "    <tr>\n",
       "      <th>4</th>\n",
       "      <td>4</td>\n",
       "      <td>1258</td>\n",
       "      <td>0</td>\n",
       "    </tr>\n",
       "    <tr>\n",
       "      <th>...</th>\n",
       "      <td>...</td>\n",
       "      <td>...</td>\n",
       "      <td>...</td>\n",
       "    </tr>\n",
       "    <tr>\n",
       "      <th>333</th>\n",
       "      <td>5</td>\n",
       "      <td>1173</td>\n",
       "      <td>0</td>\n",
       "    </tr>\n",
       "    <tr>\n",
       "      <th>335</th>\n",
       "      <td>5</td>\n",
       "      <td>1029</td>\n",
       "      <td>0</td>\n",
       "    </tr>\n",
       "    <tr>\n",
       "      <th>336</th>\n",
       "      <td>5</td>\n",
       "      <td>1056</td>\n",
       "      <td>0</td>\n",
       "    </tr>\n",
       "    <tr>\n",
       "      <th>337</th>\n",
       "      <td>5</td>\n",
       "      <td>1079</td>\n",
       "      <td>0</td>\n",
       "    </tr>\n",
       "    <tr>\n",
       "      <th>340</th>\n",
       "      <td>5</td>\n",
       "      <td>1254</td>\n",
       "      <td>0</td>\n",
       "    </tr>\n",
       "  </tbody>\n",
       "</table>\n",
       "<p>106 rows × 3 columns</p>\n",
       "</div>"
      ],
      "text/plain": [
       "     child_age  mean_reaction_time  clusters\n",
       "0            4                1479         0\n",
       "1            4                1605         0\n",
       "2            4                1404         0\n",
       "3            4                1782         0\n",
       "4            4                1258         0\n",
       "..         ...                 ...       ...\n",
       "333          5                1173         0\n",
       "335          5                1029         0\n",
       "336          5                1056         0\n",
       "337          5                1079         0\n",
       "340          5                1254         0\n",
       "\n",
       "[106 rows x 3 columns]"
      ]
     },
     "metadata": {},
     "output_type": "display_data"
    },
    {
     "data": {
      "text/plain": [
       "<AxesSubplot:>"
      ]
     },
     "execution_count": 11,
     "metadata": {},
     "output_type": "execute_result"
    },
    {
     "data": {
      "image/png": "[encoded data removed]",
      "text/plain": [
       "<Figure size 432x288 with 1 Axes>"
      ]
     },
     "metadata": {
      "needs_background": "light"
     },
     "output_type": "display_data"
    }
   ],
   "source": [
    "display(cluster_1)\n",
    "cluster_1.boxplot(column =['mean_reaction_time'], grid = False)"
   ]
  },
  {
   "cell_type": "markdown",
   "id": "3f8254b4",
   "metadata": {},
   "source": [
    "## Cluster 2"
   ]
  },
  {
   "cell_type": "code",
   "execution_count": 12,
   "id": "fcfedc59",
   "metadata": {},
   "outputs": [
    {
     "data": {
      "text/plain": [
       "93"
      ]
     },
     "execution_count": 12,
     "metadata": {},
     "output_type": "execute_result"
    }
   ],
   "source": [
    "len(new_df[new_df[\"clusters\"] == 1])"
   ]
  },
  {
   "cell_type": "code",
   "execution_count": 13,
   "id": "328c6c45",
   "metadata": {},
   "outputs": [
    {
     "name": "stdout",
     "output_type": "stream",
     "text": [
      "319\n",
      "1374\n"
     ]
    }
   ],
   "source": [
    "cluster_2 = new_df[new_df[\"clusters\"] == 1 ]\n",
    "\n",
    "maxVal = cluster_2['mean_reaction_time'].max()\n",
    "minVal = cluster_2['mean_reaction_time'].min()\n",
    "\n",
    "print(minVal)\n",
    "print(maxVal)"
   ]
  },
  {
   "cell_type": "code",
   "execution_count": 14,
   "id": "2e9a2dfe",
   "metadata": {},
   "outputs": [
    {
     "data": {
      "text/html": [
       "<div>\n",
       "<style scoped>\n",
       "    .dataframe tbody tr th:only-of-type {\n",
       "        vertical-align: middle;\n",
       "    }\n",
       "\n",
       "    .dataframe tbody tr th {\n",
       "        vertical-align: top;\n",
       "    }\n",
       "\n",
       "    .dataframe thead th {\n",
       "        text-align: right;\n",
       "    }\n",
       "</style>\n",
       "<table border=\"1\" class=\"dataframe\">\n",
       "  <thead>\n",
       "    <tr style=\"text-align: right;\">\n",
       "      <th></th>\n",
       "      <th>child_age</th>\n",
       "      <th>mean_reaction_time</th>\n",
       "      <th>clusters</th>\n",
       "    </tr>\n",
       "  </thead>\n",
       "  <tbody>\n",
       "    <tr>\n",
       "      <th>18</th>\n",
       "      <td>5</td>\n",
       "      <td>912</td>\n",
       "      <td>1</td>\n",
       "    </tr>\n",
       "    <tr>\n",
       "      <th>19</th>\n",
       "      <td>5</td>\n",
       "      <td>823</td>\n",
       "      <td>1</td>\n",
       "    </tr>\n",
       "    <tr>\n",
       "      <th>22</th>\n",
       "      <td>6</td>\n",
       "      <td>1023</td>\n",
       "      <td>1</td>\n",
       "    </tr>\n",
       "    <tr>\n",
       "      <th>24</th>\n",
       "      <td>6</td>\n",
       "      <td>961</td>\n",
       "      <td>1</td>\n",
       "    </tr>\n",
       "    <tr>\n",
       "      <th>25</th>\n",
       "      <td>6</td>\n",
       "      <td>804</td>\n",
       "      <td>1</td>\n",
       "    </tr>\n",
       "    <tr>\n",
       "      <th>...</th>\n",
       "      <td>...</td>\n",
       "      <td>...</td>\n",
       "      <td>...</td>\n",
       "    </tr>\n",
       "    <tr>\n",
       "      <th>358</th>\n",
       "      <td>7</td>\n",
       "      <td>1045</td>\n",
       "      <td>1</td>\n",
       "    </tr>\n",
       "    <tr>\n",
       "      <th>359</th>\n",
       "      <td>7</td>\n",
       "      <td>1159</td>\n",
       "      <td>1</td>\n",
       "    </tr>\n",
       "    <tr>\n",
       "      <th>360</th>\n",
       "      <td>7</td>\n",
       "      <td>1257</td>\n",
       "      <td>1</td>\n",
       "    </tr>\n",
       "    <tr>\n",
       "      <th>361</th>\n",
       "      <td>7</td>\n",
       "      <td>1044</td>\n",
       "      <td>1</td>\n",
       "    </tr>\n",
       "    <tr>\n",
       "      <th>362</th>\n",
       "      <td>7</td>\n",
       "      <td>1083</td>\n",
       "      <td>1</td>\n",
       "    </tr>\n",
       "  </tbody>\n",
       "</table>\n",
       "<p>93 rows × 3 columns</p>\n",
       "</div>"
      ],
      "text/plain": [
       "     child_age  mean_reaction_time  clusters\n",
       "18           5                 912         1\n",
       "19           5                 823         1\n",
       "22           6                1023         1\n",
       "24           6                 961         1\n",
       "25           6                 804         1\n",
       "..         ...                 ...       ...\n",
       "358          7                1045         1\n",
       "359          7                1159         1\n",
       "360          7                1257         1\n",
       "361          7                1044         1\n",
       "362          7                1083         1\n",
       "\n",
       "[93 rows x 3 columns]"
      ]
     },
     "metadata": {},
     "output_type": "display_data"
    },
    {
     "data": {
      "text/plain": [
       "<AxesSubplot:>"
      ]
     },
     "execution_count": 14,
     "metadata": {},
     "output_type": "execute_result"
    },
    {
     "data": {
      "image/png": "[encoded data removed]",
      "text/plain": [
       "<Figure size 432x288 with 1 Axes>"
      ]
     },
     "metadata": {
      "needs_background": "light"
     },
     "output_type": "display_data"
    }
   ],
   "source": [
    "display(cluster_2)\n",
    "cluster_2.sort_values('mean_reaction_time')\n",
    "cluster_2.boxplot(column =['mean_reaction_time'], grid = False)"
   ]
  },
  {
   "cell_type": "code",
   "execution_count": 15,
   "id": "a8765f6b",
   "metadata": {},
   "outputs": [
    {
     "data": {
      "image/png": "[encoded data removed]",
      "text/plain": [
       "<Figure size 432x288 with 1 Axes>"
      ]
     },
     "metadata": {
      "needs_background": "light"
     },
     "output_type": "display_data"
    }
   ],
   "source": [
    "from matplotlib import pyplot as plt\n",
    "\n",
    "# Pandas dataframe\n",
    "data = pd.DataFrame({\"Cluster1\": cluster_1['mean_reaction_time'], \"Cluster2\": cluster_2['mean_reaction_time']})\n",
    "\n",
    "# Plot the dataframe\n",
    "ax = data[['Cluster1', 'Cluster2']].plot(kind='box', title='boxplot')\n",
    "\n",
    "# Display the plot\n",
    "plt.show()"
   ]
  },
  {
   "cell_type": "code",
   "execution_count": null,
   "id": "e39d5489",
   "metadata": {},
   "outputs": [],
   "source": []
  },
  {
   "cell_type": "code",
   "execution_count": null,
   "id": "f2beea71",
   "metadata": {},
   "outputs": [],
   "source": []
  },
  {
   "cell_type": "code",
   "execution_count": null,
   "id": "d8becbe3",
   "metadata": {},
   "outputs": [],
   "source": []
  },
  {
   "cell_type": "markdown",
   "id": "8b7604c6",
   "metadata": {},
   "source": [
    "## Cluster 3"
   ]
  },
  {
   "cell_type": "code",
   "execution_count": 16,
   "id": "efa60c2e",
   "metadata": {},
   "outputs": [
    {
     "data": {
      "text/plain": [
       "0"
      ]
     },
     "execution_count": 16,
     "metadata": {},
     "output_type": "execute_result"
    }
   ],
   "source": [
    "len(new_df[new_df[\"clusters\"] == 2])"
   ]
  },
  {
   "cell_type": "code",
   "execution_count": 17,
   "id": "603069e8",
   "metadata": {},
   "outputs": [
    {
     "name": "stdout",
     "output_type": "stream",
     "text": [
      "nan\n",
      "nan\n"
     ]
    }
   ],
   "source": [
    "cluster_3 = new_df[new_df[\"clusters\"] == 2 ]\n",
    "\n",
    "maxVal = cluster_3['mean_reaction_time'].max()\n",
    "minVal = cluster_3['mean_reaction_time'].min()\n",
    "\n",
    "print(minVal)\n",
    "print(maxVal)"
   ]
  },
  {
   "cell_type": "code",
   "execution_count": 18,
   "id": "f28d4b32",
   "metadata": {},
   "outputs": [
    {
     "data": {
      "text/html": [
       "<div>\n",
       "<style scoped>\n",
       "    .dataframe tbody tr th:only-of-type {\n",
       "        vertical-align: middle;\n",
       "    }\n",
       "\n",
       "    .dataframe tbody tr th {\n",
       "        vertical-align: top;\n",
       "    }\n",
       "\n",
       "    .dataframe thead th {\n",
       "        text-align: right;\n",
       "    }\n",
       "</style>\n",
       "<table border=\"1\" class=\"dataframe\">\n",
       "  <thead>\n",
       "    <tr style=\"text-align: right;\">\n",
       "      <th></th>\n",
       "      <th>child_age</th>\n",
       "      <th>mean_reaction_time</th>\n",
       "      <th>clusters</th>\n",
       "    </tr>\n",
       "  </thead>\n",
       "  <tbody>\n",
       "  </tbody>\n",
       "</table>\n",
       "</div>"
      ],
      "text/plain": [
       "Empty DataFrame\n",
       "Columns: [child_age, mean_reaction_time, clusters]\n",
       "Index: []"
      ]
     },
     "metadata": {},
     "output_type": "display_data"
    },
    {
     "data": {
      "text/plain": [
       "<AxesSubplot:>"
      ]
     },
     "execution_count": 18,
     "metadata": {},
     "output_type": "execute_result"
    },
    {
     "data": {
      "image/png": "[encoded data removed]",
      "text/plain": [
       "<Figure size 432x288 with 1 Axes>"
      ]
     },
     "metadata": {
      "needs_background": "light"
     },
     "output_type": "display_data"
    }
   ],
   "source": [
    "display(cluster_3)\n",
    "cluster_3.sort_values('mean_reaction_time')\n",
    "cluster_3.boxplot(column =['mean_reaction_time'], grid = False)"
   ]
  },
  {
   "cell_type": "markdown",
   "id": "b508b1e9",
   "metadata": {},
   "source": [
    "## Cluster 4"
   ]
  },
  {
   "cell_type": "code",
   "execution_count": 19,
   "id": "bebfbf06",
   "metadata": {},
   "outputs": [
    {
     "data": {
      "text/plain": [
       "0"
      ]
     },
     "execution_count": 19,
     "metadata": {},
     "output_type": "execute_result"
    }
   ],
   "source": [
    "len(new_df[new_df[\"clusters\"] == 3])"
   ]
  },
  {
   "cell_type": "code",
   "execution_count": 20,
   "id": "48550c73",
   "metadata": {},
   "outputs": [
    {
     "name": "stdout",
     "output_type": "stream",
     "text": [
      "nan\n",
      "nan\n"
     ]
    }
   ],
   "source": [
    "cluster_4 = new_df[new_df[\"clusters\"] == 3 ]\n",
    "\n",
    "maxVal = cluster_4['mean_reaction_time'].max()\n",
    "minVal = cluster_4['mean_reaction_time'].min()\n",
    "\n",
    "print(minVal)\n",
    "print(maxVal)"
   ]
  },
  {
   "cell_type": "code",
   "execution_count": 21,
   "id": "691ade5b",
   "metadata": {},
   "outputs": [
    {
     "data": {
      "text/html": [
       "<div>\n",
       "<style scoped>\n",
       "    .dataframe tbody tr th:only-of-type {\n",
       "        vertical-align: middle;\n",
       "    }\n",
       "\n",
       "    .dataframe tbody tr th {\n",
       "        vertical-align: top;\n",
       "    }\n",
       "\n",
       "    .dataframe thead th {\n",
       "        text-align: right;\n",
       "    }\n",
       "</style>\n",
       "<table border=\"1\" class=\"dataframe\">\n",
       "  <thead>\n",
       "    <tr style=\"text-align: right;\">\n",
       "      <th></th>\n",
       "      <th>child_age</th>\n",
       "      <th>mean_reaction_time</th>\n",
       "      <th>clusters</th>\n",
       "    </tr>\n",
       "  </thead>\n",
       "  <tbody>\n",
       "  </tbody>\n",
       "</table>\n",
       "</div>"
      ],
      "text/plain": [
       "Empty DataFrame\n",
       "Columns: [child_age, mean_reaction_time, clusters]\n",
       "Index: []"
      ]
     },
     "metadata": {},
     "output_type": "display_data"
    },
    {
     "data": {
      "text/plain": [
       "<AxesSubplot:>"
      ]
     },
     "execution_count": 21,
     "metadata": {},
     "output_type": "execute_result"
    },
    {
     "data": {
      "image/png": "[encoded data removed]",
      "text/plain": [
       "<Figure size 432x288 with 1 Axes>"
      ]
     },
     "metadata": {
      "needs_background": "light"
     },
     "output_type": "display_data"
    }
   ],
   "source": [
    "display(cluster_4)\n",
    "cluster_4.sort_values('mean_reaction_time')\n",
    "cluster_4.boxplot(column =['mean_reaction_time'], grid = False)"
   ]
  },
  {
   "cell_type": "code",
   "execution_count": null,
   "id": "997f0197",
   "metadata": {},
   "outputs": [],
   "source": []
  }
 ],
 "metadata": {
  "kernelspec": {
   "display_name": "Python 3 (ipykernel)",
   "language": "python",
   "name": "python3"
  },
  "language_info": {
   "codemirror_mode": {
    "name": "ipython",
    "version": 3
   },
   "file_extension": ".py",
   "mimetype": "text/x-python",
   "name": "python",
   "nbconvert_exporter": "python",
   "pygments_lexer": "ipython3",
   "version": "3.9.3"
  }
 },
 "nbformat": 4,
 "nbformat_minor": 5
}
