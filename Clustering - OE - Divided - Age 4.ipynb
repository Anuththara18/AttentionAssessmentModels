{
 "cells": [
  {
   "cell_type": "code",
   "execution_count": 1,
   "id": "bcdc5589",
   "metadata": {},
   "outputs": [],
   "source": [
    "# importing libraries    \n",
    "import numpy as nm    \n",
    "import matplotlib.pyplot as mtp    \n",
    "import pandas as pd   \n",
    "from sklearn.cluster import DBSCAN\n",
    "from numpy import unique\n",
    "from numpy import where\n",
    "from matplotlib import pyplot"
   ]
  },
  {
   "cell_type": "code",
   "execution_count": 2,
   "id": "f448f999",
   "metadata": {},
   "outputs": [
    {
     "data": {
      "text/html": [
       "<div>\n",
       "<style scoped>\n",
       "    .dataframe tbody tr th:only-of-type {\n",
       "        vertical-align: middle;\n",
       "    }\n",
       "\n",
       "    .dataframe tbody tr th {\n",
       "        vertical-align: top;\n",
       "    }\n",
       "\n",
       "    .dataframe thead th {\n",
       "        text-align: right;\n",
       "    }\n",
       "</style>\n",
       "<table border=\"1\" class=\"dataframe\">\n",
       "  <thead>\n",
       "    <tr style=\"text-align: right;\">\n",
       "      <th></th>\n",
       "      <th>id</th>\n",
       "      <th>child_gender</th>\n",
       "      <th>child_age</th>\n",
       "      <th>sequence_of_responses</th>\n",
       "      <th>sequence_of_stimuli</th>\n",
       "      <th>colour</th>\n",
       "      <th>order_of_selection</th>\n",
       "      <th>sequence_of_sides</th>\n",
       "      <th>no_of_clicks</th>\n",
       "      <th>total_correct_responses</th>\n",
       "      <th>correct_responses</th>\n",
       "      <th>commission_errors</th>\n",
       "      <th>omission_errors</th>\n",
       "      <th>mean_reaction_time</th>\n",
       "      <th>total_duration</th>\n",
       "      <th>diagnosis</th>\n",
       "      <th>percentage_no_of_correct_responses</th>\n",
       "      <th>game</th>\n",
       "      <th>CER</th>\n",
       "      <th>OER</th>\n",
       "    </tr>\n",
       "  </thead>\n",
       "  <tbody>\n",
       "    <tr>\n",
       "      <th>11</th>\n",
       "      <td>12</td>\n",
       "      <td>2</td>\n",
       "      <td>4</td>\n",
       "      <td>[W, M, C, C, W, M, C, C, C, W, M]</td>\n",
       "      <td>NaN</td>\n",
       "      <td>NaN</td>\n",
       "      <td>NaN</td>\n",
       "      <td>NaN</td>\n",
       "      <td>NaN</td>\n",
       "      <td>8</td>\n",
       "      <td>5</td>\n",
       "      <td>3</td>\n",
       "      <td>3</td>\n",
       "      <td>1303</td>\n",
       "      <td>70000</td>\n",
       "      <td>No</td>\n",
       "      <td>62.5</td>\n",
       "      <td>Divided</td>\n",
       "      <td>0.500000</td>\n",
       "      <td>0.500000</td>\n",
       "    </tr>\n",
       "    <tr>\n",
       "      <th>12</th>\n",
       "      <td>13</td>\n",
       "      <td>1</td>\n",
       "      <td>4</td>\n",
       "      <td>[C, W, C, M, M, C, W, M, C, C]</td>\n",
       "      <td>NaN</td>\n",
       "      <td>NaN</td>\n",
       "      <td>NaN</td>\n",
       "      <td>NaN</td>\n",
       "      <td>NaN</td>\n",
       "      <td>8</td>\n",
       "      <td>5</td>\n",
       "      <td>2</td>\n",
       "      <td>3</td>\n",
       "      <td>1384</td>\n",
       "      <td>70000</td>\n",
       "      <td>No</td>\n",
       "      <td>62.5</td>\n",
       "      <td>Divided</td>\n",
       "      <td>0.400000</td>\n",
       "      <td>0.600000</td>\n",
       "    </tr>\n",
       "    <tr>\n",
       "      <th>13</th>\n",
       "      <td>14</td>\n",
       "      <td>2</td>\n",
       "      <td>4</td>\n",
       "      <td>[C, W, C, C, C, W, C, M, W, C, W, C]</td>\n",
       "      <td>NaN</td>\n",
       "      <td>NaN</td>\n",
       "      <td>NaN</td>\n",
       "      <td>NaN</td>\n",
       "      <td>NaN</td>\n",
       "      <td>8</td>\n",
       "      <td>7</td>\n",
       "      <td>4</td>\n",
       "      <td>1</td>\n",
       "      <td>1191</td>\n",
       "      <td>70000</td>\n",
       "      <td>No</td>\n",
       "      <td>87.5</td>\n",
       "      <td>Divided</td>\n",
       "      <td>0.800000</td>\n",
       "      <td>0.200000</td>\n",
       "    </tr>\n",
       "    <tr>\n",
       "      <th>14</th>\n",
       "      <td>15</td>\n",
       "      <td>2</td>\n",
       "      <td>4</td>\n",
       "      <td>[C, W, M, C, C, W, C, M, M, M]</td>\n",
       "      <td>NaN</td>\n",
       "      <td>NaN</td>\n",
       "      <td>NaN</td>\n",
       "      <td>NaN</td>\n",
       "      <td>NaN</td>\n",
       "      <td>8</td>\n",
       "      <td>4</td>\n",
       "      <td>2</td>\n",
       "      <td>4</td>\n",
       "      <td>1335</td>\n",
       "      <td>70000</td>\n",
       "      <td>No</td>\n",
       "      <td>50.0</td>\n",
       "      <td>Divided</td>\n",
       "      <td>0.333333</td>\n",
       "      <td>0.666667</td>\n",
       "    </tr>\n",
       "    <tr>\n",
       "      <th>15</th>\n",
       "      <td>16</td>\n",
       "      <td>1</td>\n",
       "      <td>4</td>\n",
       "      <td>[W, M, C, C, W, M, C, C, C, C]</td>\n",
       "      <td>NaN</td>\n",
       "      <td>NaN</td>\n",
       "      <td>NaN</td>\n",
       "      <td>NaN</td>\n",
       "      <td>NaN</td>\n",
       "      <td>8</td>\n",
       "      <td>6</td>\n",
       "      <td>2</td>\n",
       "      <td>2</td>\n",
       "      <td>1253</td>\n",
       "      <td>70000</td>\n",
       "      <td>No</td>\n",
       "      <td>75.0</td>\n",
       "      <td>Divided</td>\n",
       "      <td>0.500000</td>\n",
       "      <td>0.500000</td>\n",
       "    </tr>\n",
       "    <tr>\n",
       "      <th>16</th>\n",
       "      <td>17</td>\n",
       "      <td>1</td>\n",
       "      <td>4</td>\n",
       "      <td>[C, C, C, W, C, C, C, W, C, C]</td>\n",
       "      <td>NaN</td>\n",
       "      <td>NaN</td>\n",
       "      <td>NaN</td>\n",
       "      <td>NaN</td>\n",
       "      <td>NaN</td>\n",
       "      <td>8</td>\n",
       "      <td>8</td>\n",
       "      <td>2</td>\n",
       "      <td>0</td>\n",
       "      <td>1239</td>\n",
       "      <td>70000</td>\n",
       "      <td>No</td>\n",
       "      <td>100.0</td>\n",
       "      <td>Divided</td>\n",
       "      <td>1.000000</td>\n",
       "      <td>0.000000</td>\n",
       "    </tr>\n",
       "    <tr>\n",
       "      <th>17</th>\n",
       "      <td>18</td>\n",
       "      <td>1</td>\n",
       "      <td>4</td>\n",
       "      <td>[C, W, C, W, W, W, C, C, C, M, C, C]</td>\n",
       "      <td>NaN</td>\n",
       "      <td>NaN</td>\n",
       "      <td>NaN</td>\n",
       "      <td>NaN</td>\n",
       "      <td>NaN</td>\n",
       "      <td>8</td>\n",
       "      <td>7</td>\n",
       "      <td>4</td>\n",
       "      <td>1</td>\n",
       "      <td>1109</td>\n",
       "      <td>70000</td>\n",
       "      <td>No</td>\n",
       "      <td>87.5</td>\n",
       "      <td>Divided</td>\n",
       "      <td>0.800000</td>\n",
       "      <td>0.200000</td>\n",
       "    </tr>\n",
       "    <tr>\n",
       "      <th>18</th>\n",
       "      <td>19</td>\n",
       "      <td>1</td>\n",
       "      <td>4</td>\n",
       "      <td>[W, C, C, C, C, C, W, C, C, C]</td>\n",
       "      <td>NaN</td>\n",
       "      <td>NaN</td>\n",
       "      <td>NaN</td>\n",
       "      <td>NaN</td>\n",
       "      <td>NaN</td>\n",
       "      <td>8</td>\n",
       "      <td>8</td>\n",
       "      <td>2</td>\n",
       "      <td>0</td>\n",
       "      <td>952</td>\n",
       "      <td>70000</td>\n",
       "      <td>No</td>\n",
       "      <td>100.0</td>\n",
       "      <td>Divided</td>\n",
       "      <td>1.000000</td>\n",
       "      <td>0.000000</td>\n",
       "    </tr>\n",
       "    <tr>\n",
       "      <th>19</th>\n",
       "      <td>20</td>\n",
       "      <td>1</td>\n",
       "      <td>4</td>\n",
       "      <td>[C, C, C, C, C, C, C, C]</td>\n",
       "      <td>NaN</td>\n",
       "      <td>NaN</td>\n",
       "      <td>NaN</td>\n",
       "      <td>NaN</td>\n",
       "      <td>NaN</td>\n",
       "      <td>8</td>\n",
       "      <td>8</td>\n",
       "      <td>0</td>\n",
       "      <td>0</td>\n",
       "      <td>928</td>\n",
       "      <td>70000</td>\n",
       "      <td>No</td>\n",
       "      <td>100.0</td>\n",
       "      <td>Divided</td>\n",
       "      <td>0.000000</td>\n",
       "      <td>0.000000</td>\n",
       "    </tr>\n",
       "    <tr>\n",
       "      <th>20</th>\n",
       "      <td>21</td>\n",
       "      <td>1</td>\n",
       "      <td>4</td>\n",
       "      <td>[C, C, W, M, W, C, C, C, C, W, C]</td>\n",
       "      <td>NaN</td>\n",
       "      <td>NaN</td>\n",
       "      <td>NaN</td>\n",
       "      <td>NaN</td>\n",
       "      <td>NaN</td>\n",
       "      <td>8</td>\n",
       "      <td>7</td>\n",
       "      <td>3</td>\n",
       "      <td>1</td>\n",
       "      <td>1428</td>\n",
       "      <td>70000</td>\n",
       "      <td>No</td>\n",
       "      <td>87.5</td>\n",
       "      <td>Divided</td>\n",
       "      <td>0.750000</td>\n",
       "      <td>0.250000</td>\n",
       "    </tr>\n",
       "    <tr>\n",
       "      <th>21</th>\n",
       "      <td>22</td>\n",
       "      <td>1</td>\n",
       "      <td>4</td>\n",
       "      <td>[C, W, C, C, C, M, M, W, W, M, W, W, C, W, M]</td>\n",
       "      <td>NaN</td>\n",
       "      <td>NaN</td>\n",
       "      <td>NaN</td>\n",
       "      <td>NaN</td>\n",
       "      <td>NaN</td>\n",
       "      <td>8</td>\n",
       "      <td>5</td>\n",
       "      <td>6</td>\n",
       "      <td>3</td>\n",
       "      <td>1115</td>\n",
       "      <td>70000</td>\n",
       "      <td>No</td>\n",
       "      <td>62.5</td>\n",
       "      <td>Divided</td>\n",
       "      <td>0.666667</td>\n",
       "      <td>0.333333</td>\n",
       "    </tr>\n",
       "  </tbody>\n",
       "</table>\n",
       "</div>"
      ],
      "text/plain": [
       "    id  child_gender  child_age  \\\n",
       "11  12             2          4   \n",
       "12  13             1          4   \n",
       "13  14             2          4   \n",
       "14  15             2          4   \n",
       "15  16             1          4   \n",
       "16  17             1          4   \n",
       "17  18             1          4   \n",
       "18  19             1          4   \n",
       "19  20             1          4   \n",
       "20  21             1          4   \n",
       "21  22             1          4   \n",
       "\n",
       "                            sequence_of_responses sequence_of_stimuli colour  \\\n",
       "11              [W, M, C, C, W, M, C, C, C, W, M]                 NaN    NaN   \n",
       "12                 [C, W, C, M, M, C, W, M, C, C]                 NaN    NaN   \n",
       "13           [C, W, C, C, C, W, C, M, W, C, W, C]                 NaN    NaN   \n",
       "14                 [C, W, M, C, C, W, C, M, M, M]                 NaN    NaN   \n",
       "15                 [W, M, C, C, W, M, C, C, C, C]                 NaN    NaN   \n",
       "16                 [C, C, C, W, C, C, C, W, C, C]                 NaN    NaN   \n",
       "17           [C, W, C, W, W, W, C, C, C, M, C, C]                 NaN    NaN   \n",
       "18                 [W, C, C, C, C, C, W, C, C, C]                 NaN    NaN   \n",
       "19                       [C, C, C, C, C, C, C, C]                 NaN    NaN   \n",
       "20              [C, C, W, M, W, C, C, C, C, W, C]                 NaN    NaN   \n",
       "21  [C, W, C, C, C, M, M, W, W, M, W, W, C, W, M]                 NaN    NaN   \n",
       "\n",
       "   order_of_selection sequence_of_sides  no_of_clicks  \\\n",
       "11                NaN               NaN           NaN   \n",
       "12                NaN               NaN           NaN   \n",
       "13                NaN               NaN           NaN   \n",
       "14                NaN               NaN           NaN   \n",
       "15                NaN               NaN           NaN   \n",
       "16                NaN               NaN           NaN   \n",
       "17                NaN               NaN           NaN   \n",
       "18                NaN               NaN           NaN   \n",
       "19                NaN               NaN           NaN   \n",
       "20                NaN               NaN           NaN   \n",
       "21                NaN               NaN           NaN   \n",
       "\n",
       "    total_correct_responses  correct_responses  commission_errors  \\\n",
       "11                        8                  5                  3   \n",
       "12                        8                  5                  2   \n",
       "13                        8                  7                  4   \n",
       "14                        8                  4                  2   \n",
       "15                        8                  6                  2   \n",
       "16                        8                  8                  2   \n",
       "17                        8                  7                  4   \n",
       "18                        8                  8                  2   \n",
       "19                        8                  8                  0   \n",
       "20                        8                  7                  3   \n",
       "21                        8                  5                  6   \n",
       "\n",
       "    omission_errors  mean_reaction_time  total_duration diagnosis  \\\n",
       "11                3                1303           70000        No   \n",
       "12                3                1384           70000        No   \n",
       "13                1                1191           70000        No   \n",
       "14                4                1335           70000        No   \n",
       "15                2                1253           70000        No   \n",
       "16                0                1239           70000        No   \n",
       "17                1                1109           70000        No   \n",
       "18                0                 952           70000        No   \n",
       "19                0                 928           70000        No   \n",
       "20                1                1428           70000        No   \n",
       "21                3                1115           70000        No   \n",
       "\n",
       "    percentage_no_of_correct_responses     game       CER       OER  \n",
       "11                                62.5  Divided  0.500000  0.500000  \n",
       "12                                62.5  Divided  0.400000  0.600000  \n",
       "13                                87.5  Divided  0.800000  0.200000  \n",
       "14                                50.0  Divided  0.333333  0.666667  \n",
       "15                                75.0  Divided  0.500000  0.500000  \n",
       "16                               100.0  Divided  1.000000  0.000000  \n",
       "17                                87.5  Divided  0.800000  0.200000  \n",
       "18                               100.0  Divided  1.000000  0.000000  \n",
       "19                               100.0  Divided  0.000000  0.000000  \n",
       "20                                87.5  Divided  0.750000  0.250000  \n",
       "21                                62.5  Divided  0.666667  0.333333  "
      ]
     },
     "metadata": {},
     "output_type": "display_data"
    },
    {
     "data": {
      "text/html": [
       "<div>\n",
       "<style scoped>\n",
       "    .dataframe tbody tr th:only-of-type {\n",
       "        vertical-align: middle;\n",
       "    }\n",
       "\n",
       "    .dataframe tbody tr th {\n",
       "        vertical-align: top;\n",
       "    }\n",
       "\n",
       "    .dataframe thead th {\n",
       "        text-align: right;\n",
       "    }\n",
       "</style>\n",
       "<table border=\"1\" class=\"dataframe\">\n",
       "  <thead>\n",
       "    <tr style=\"text-align: right;\">\n",
       "      <th></th>\n",
       "      <th>id</th>\n",
       "      <th>child_gender</th>\n",
       "      <th>child_age</th>\n",
       "      <th>no_of_clicks</th>\n",
       "      <th>total_correct_responses</th>\n",
       "      <th>correct_responses</th>\n",
       "      <th>commission_errors</th>\n",
       "      <th>omission_errors</th>\n",
       "      <th>mean_reaction_time</th>\n",
       "      <th>total_duration</th>\n",
       "      <th>percentage_no_of_correct_responses</th>\n",
       "      <th>CER</th>\n",
       "      <th>OER</th>\n",
       "    </tr>\n",
       "  </thead>\n",
       "  <tbody>\n",
       "    <tr>\n",
       "      <th>count</th>\n",
       "      <td>11.000000</td>\n",
       "      <td>11.000000</td>\n",
       "      <td>11.0</td>\n",
       "      <td>0.0</td>\n",
       "      <td>11.0</td>\n",
       "      <td>11.000000</td>\n",
       "      <td>11.000000</td>\n",
       "      <td>11.000000</td>\n",
       "      <td>11.000000</td>\n",
       "      <td>11.0</td>\n",
       "      <td>11.000000</td>\n",
       "      <td>11.000000</td>\n",
       "      <td>11.000000</td>\n",
       "    </tr>\n",
       "    <tr>\n",
       "      <th>mean</th>\n",
       "      <td>17.000000</td>\n",
       "      <td>1.272727</td>\n",
       "      <td>4.0</td>\n",
       "      <td>NaN</td>\n",
       "      <td>8.0</td>\n",
       "      <td>6.363636</td>\n",
       "      <td>2.727273</td>\n",
       "      <td>1.636364</td>\n",
       "      <td>1203.363636</td>\n",
       "      <td>70000.0</td>\n",
       "      <td>79.545455</td>\n",
       "      <td>0.613636</td>\n",
       "      <td>0.295455</td>\n",
       "    </tr>\n",
       "    <tr>\n",
       "      <th>std</th>\n",
       "      <td>3.316625</td>\n",
       "      <td>0.467099</td>\n",
       "      <td>0.0</td>\n",
       "      <td>NaN</td>\n",
       "      <td>0.0</td>\n",
       "      <td>1.433369</td>\n",
       "      <td>1.555050</td>\n",
       "      <td>1.433369</td>\n",
       "      <td>164.302935</td>\n",
       "      <td>0.0</td>\n",
       "      <td>17.917107</td>\n",
       "      <td>0.302657</td>\n",
       "      <td>0.244505</td>\n",
       "    </tr>\n",
       "    <tr>\n",
       "      <th>min</th>\n",
       "      <td>12.000000</td>\n",
       "      <td>1.000000</td>\n",
       "      <td>4.0</td>\n",
       "      <td>NaN</td>\n",
       "      <td>8.0</td>\n",
       "      <td>4.000000</td>\n",
       "      <td>0.000000</td>\n",
       "      <td>0.000000</td>\n",
       "      <td>928.000000</td>\n",
       "      <td>70000.0</td>\n",
       "      <td>50.000000</td>\n",
       "      <td>0.000000</td>\n",
       "      <td>0.000000</td>\n",
       "    </tr>\n",
       "    <tr>\n",
       "      <th>25%</th>\n",
       "      <td>14.500000</td>\n",
       "      <td>1.000000</td>\n",
       "      <td>4.0</td>\n",
       "      <td>NaN</td>\n",
       "      <td>8.0</td>\n",
       "      <td>5.000000</td>\n",
       "      <td>2.000000</td>\n",
       "      <td>0.500000</td>\n",
       "      <td>1112.000000</td>\n",
       "      <td>70000.0</td>\n",
       "      <td>62.500000</td>\n",
       "      <td>0.450000</td>\n",
       "      <td>0.100000</td>\n",
       "    </tr>\n",
       "    <tr>\n",
       "      <th>50%</th>\n",
       "      <td>17.000000</td>\n",
       "      <td>1.000000</td>\n",
       "      <td>4.0</td>\n",
       "      <td>NaN</td>\n",
       "      <td>8.0</td>\n",
       "      <td>7.000000</td>\n",
       "      <td>2.000000</td>\n",
       "      <td>1.000000</td>\n",
       "      <td>1239.000000</td>\n",
       "      <td>70000.0</td>\n",
       "      <td>87.500000</td>\n",
       "      <td>0.666667</td>\n",
       "      <td>0.250000</td>\n",
       "    </tr>\n",
       "    <tr>\n",
       "      <th>75%</th>\n",
       "      <td>19.500000</td>\n",
       "      <td>1.500000</td>\n",
       "      <td>4.0</td>\n",
       "      <td>NaN</td>\n",
       "      <td>8.0</td>\n",
       "      <td>7.500000</td>\n",
       "      <td>3.500000</td>\n",
       "      <td>3.000000</td>\n",
       "      <td>1319.000000</td>\n",
       "      <td>70000.0</td>\n",
       "      <td>93.750000</td>\n",
       "      <td>0.800000</td>\n",
       "      <td>0.500000</td>\n",
       "    </tr>\n",
       "    <tr>\n",
       "      <th>max</th>\n",
       "      <td>22.000000</td>\n",
       "      <td>2.000000</td>\n",
       "      <td>4.0</td>\n",
       "      <td>NaN</td>\n",
       "      <td>8.0</td>\n",
       "      <td>8.000000</td>\n",
       "      <td>6.000000</td>\n",
       "      <td>4.000000</td>\n",
       "      <td>1428.000000</td>\n",
       "      <td>70000.0</td>\n",
       "      <td>100.000000</td>\n",
       "      <td>1.000000</td>\n",
       "      <td>0.666667</td>\n",
       "    </tr>\n",
       "  </tbody>\n",
       "</table>\n",
       "</div>"
      ],
      "text/plain": [
       "              id  child_gender  child_age  no_of_clicks  \\\n",
       "count  11.000000     11.000000       11.0           0.0   \n",
       "mean   17.000000      1.272727        4.0           NaN   \n",
       "std     3.316625      0.467099        0.0           NaN   \n",
       "min    12.000000      1.000000        4.0           NaN   \n",
       "25%    14.500000      1.000000        4.0           NaN   \n",
       "50%    17.000000      1.000000        4.0           NaN   \n",
       "75%    19.500000      1.500000        4.0           NaN   \n",
       "max    22.000000      2.000000        4.0           NaN   \n",
       "\n",
       "       total_correct_responses  correct_responses  commission_errors  \\\n",
       "count                     11.0          11.000000          11.000000   \n",
       "mean                       8.0           6.363636           2.727273   \n",
       "std                        0.0           1.433369           1.555050   \n",
       "min                        8.0           4.000000           0.000000   \n",
       "25%                        8.0           5.000000           2.000000   \n",
       "50%                        8.0           7.000000           2.000000   \n",
       "75%                        8.0           7.500000           3.500000   \n",
       "max                        8.0           8.000000           6.000000   \n",
       "\n",
       "       omission_errors  mean_reaction_time  total_duration  \\\n",
       "count        11.000000           11.000000            11.0   \n",
       "mean          1.636364         1203.363636         70000.0   \n",
       "std           1.433369          164.302935             0.0   \n",
       "min           0.000000          928.000000         70000.0   \n",
       "25%           0.500000         1112.000000         70000.0   \n",
       "50%           1.000000         1239.000000         70000.0   \n",
       "75%           3.000000         1319.000000         70000.0   \n",
       "max           4.000000         1428.000000         70000.0   \n",
       "\n",
       "       percentage_no_of_correct_responses        CER        OER  \n",
       "count                           11.000000  11.000000  11.000000  \n",
       "mean                            79.545455   0.613636   0.295455  \n",
       "std                             17.917107   0.302657   0.244505  \n",
       "min                             50.000000   0.000000   0.000000  \n",
       "25%                             62.500000   0.450000   0.100000  \n",
       "50%                             87.500000   0.666667   0.250000  \n",
       "75%                             93.750000   0.800000   0.500000  \n",
       "max                            100.000000   1.000000   0.666667  "
      ]
     },
     "execution_count": 2,
     "metadata": {},
     "output_type": "execute_result"
    }
   ],
   "source": [
    "# Importing the dataset  \n",
    "dataset = pd.read_csv('A4.csv')   \n",
    "dataset.drop(dataset.index[dataset['game'] == 'Focused'], inplace = True)\n",
    "dataset.drop(dataset.index[dataset['game'] == 'Sustained'], inplace = True)\n",
    "\n",
    "dataset.drop(dataset.index[dataset['game'] == 'Alternating'], inplace = True)\n",
    "dataset.drop(dataset.index[dataset['game'] == 'Selective'], inplace = True)\n",
    "display(dataset)\n",
    "# statistics of the data\n",
    "dataset.describe()"
   ]
  },
  {
   "cell_type": "code",
   "execution_count": 3,
   "id": "12841129",
   "metadata": {},
   "outputs": [
    {
     "data": {
      "text/plain": [
       "array([[0.5       , 0.5       ],\n",
       "       [0.4       , 0.6       ],\n",
       "       [0.8       , 0.2       ],\n",
       "       [0.33333333, 0.66666667],\n",
       "       [0.5       , 0.5       ],\n",
       "       [1.        , 0.        ],\n",
       "       [0.8       , 0.2       ],\n",
       "       [1.        , 0.        ],\n",
       "       [0.        , 0.        ],\n",
       "       [0.75      , 0.25      ],\n",
       "       [0.66666667, 0.33333333]])"
      ]
     },
     "metadata": {},
     "output_type": "display_data"
    }
   ],
   "source": [
    "# extracting only 11-comission & 12-omission\n",
    "x = dataset.iloc[:, [18, 19]].values  \n",
    "display(x)"
   ]
  },
  {
   "cell_type": "code",
   "execution_count": 4,
   "id": "d569e05b",
   "metadata": {},
   "outputs": [
    {
     "data": {
      "text/plain": [
       "array([[-0.39378896,  0.87740064],\n",
       "       [-0.74032325,  1.30635206],\n",
       "       [ 0.6458139 , -0.40945363],\n",
       "       [-0.97134611,  1.59231968],\n",
       "       [-0.39378896,  0.87740064],\n",
       "       [ 1.33888247, -1.26735648],\n",
       "       [ 0.6458139 , -0.40945363],\n",
       "       [ 1.33888247, -1.26735648],\n",
       "       [-2.1264604 , -1.26735648],\n",
       "       [ 0.47254675, -0.19497792],\n",
       "       [ 0.18376818,  0.1624816 ]])"
      ]
     },
     "metadata": {},
     "output_type": "display_data"
    }
   ],
   "source": [
    "# standardizing the data\n",
    "from sklearn.preprocessing import StandardScaler\n",
    "scaler = StandardScaler()\n",
    "x = scaler.fit_transform(x)\n",
    "\n",
    "# statistics of scaled data\n",
    "pd.DataFrame(x).describe()\n",
    "display(x)"
   ]
  },
  {
   "cell_type": "code",
   "execution_count": 5,
   "id": "58284e31",
   "metadata": {},
   "outputs": [
    {
     "name": "stderr",
     "output_type": "stream",
     "text": [
      "C:\\Users\\Anuththara\\AppData\\Local\\Temp\\ipykernel_13496\\1126609211.py:8: ConvergenceWarning: Number of distinct clusters (8) found smaller than n_clusters (9). Possibly due to duplicate points in X.\n",
      "  kmeans.fit(x)\n",
      "C:\\Users\\Anuththara\\AppData\\Local\\Temp\\ipykernel_13496\\1126609211.py:8: ConvergenceWarning: Number of distinct clusters (8) found smaller than n_clusters (10). Possibly due to duplicate points in X.\n",
      "  kmeans.fit(x)\n"
     ]
    },
    {
     "data": {
      "image/png": "[encoded data removed]",
      "text/plain": [
       "<Figure size 432x288 with 1 Axes>"
      ]
     },
     "metadata": {
      "needs_background": "light"
     },
     "output_type": "display_data"
    }
   ],
   "source": [
    "# Finding the optimal number of clusters using the elbow method\n",
    "from sklearn.cluster import KMeans  \n",
    "wcss_list= []  #Initializing the list for the values of WCSS  \n",
    "  \n",
    "#Using for loop for iterations from 1 to 10.  \n",
    "for i in range(1, 11):  \n",
    "    kmeans = KMeans(n_clusters=i, init='k-means++', random_state= 42)  \n",
    "    kmeans.fit(x)  \n",
    "    wcss_list.append(kmeans.inertia_)  \n",
    "mtp.plot(range(1, 11), wcss_list)  \n",
    "mtp.title('The Elobw Method Graph')  \n",
    "mtp.xlabel('Number of clusters(k)')  \n",
    "mtp.ylabel('wcss_list')  \n",
    "mtp.show()"
   ]
  },
  {
   "cell_type": "code",
   "execution_count": 6,
   "id": "5d1c61bf",
   "metadata": {},
   "outputs": [
    {
     "name": "stdout",
     "output_type": "stream",
     "text": [
      "[1 1 0 1 1 0 0 0 2 0 0]\n"
     ]
    },
    {
     "data": {
      "image/png": "[encoded data removed]",
      "text/plain": [
       "<Figure size 432x288 with 1 Axes>"
      ]
     },
     "metadata": {
      "needs_background": "light"
     },
     "output_type": "display_data"
    }
   ],
   "source": [
    "#training the K-means model on a dataset  \n",
    "kmeans = KMeans(n_clusters=3, init='k-means++', random_state= 42)  \n",
    "y_predict= kmeans.fit_predict(x)  \n",
    "print(y_predict)\n",
    "\n",
    "#visulaizing the clusters  \n",
    "mtp.scatter(x[y_predict == 0, 0], x[y_predict == 0, 1], s = 100, c = 'blue', label = 'Cluster 1') #for first cluster  \n",
    "mtp.scatter(x[y_predict == 1, 0], x[y_predict == 1, 1], s = 100, c = 'green', label = 'Cluster 2') #for second cluster  \n",
    "mtp.scatter(x[y_predict== 2, 0], x[y_predict == 2, 1], s = 100, c = 'red', label = 'Cluster 3') #for third cluster    \n",
    "mtp.scatter(kmeans.cluster_centers_[:, 0], kmeans.cluster_centers_[:, 1], s = 300, c = 'yellow', label = 'Centroid')   \n",
    "mtp.title('Clusters of children')  \n",
    "mtp.xlabel('Commission Errors')  \n",
    "mtp.ylabel('Omission Errors')  \n",
    "mtp.legend()  \n",
    "mtp.show()  "
   ]
  },
  {
   "cell_type": "code",
   "execution_count": 7,
   "id": "2e691585",
   "metadata": {},
   "outputs": [
    {
     "data": {
      "text/html": [
       "<div>\n",
       "<style scoped>\n",
       "    .dataframe tbody tr th:only-of-type {\n",
       "        vertical-align: middle;\n",
       "    }\n",
       "\n",
       "    .dataframe tbody tr th {\n",
       "        vertical-align: top;\n",
       "    }\n",
       "\n",
       "    .dataframe thead th {\n",
       "        text-align: right;\n",
       "    }\n",
       "</style>\n",
       "<table border=\"1\" class=\"dataframe\">\n",
       "  <thead>\n",
       "    <tr style=\"text-align: right;\">\n",
       "      <th></th>\n",
       "      <th>CER</th>\n",
       "      <th>OER</th>\n",
       "      <th>clusters</th>\n",
       "    </tr>\n",
       "  </thead>\n",
       "  <tbody>\n",
       "    <tr>\n",
       "      <th>11</th>\n",
       "      <td>0.500000</td>\n",
       "      <td>0.500000</td>\n",
       "      <td>1</td>\n",
       "    </tr>\n",
       "    <tr>\n",
       "      <th>12</th>\n",
       "      <td>0.400000</td>\n",
       "      <td>0.600000</td>\n",
       "      <td>1</td>\n",
       "    </tr>\n",
       "    <tr>\n",
       "      <th>13</th>\n",
       "      <td>0.800000</td>\n",
       "      <td>0.200000</td>\n",
       "      <td>0</td>\n",
       "    </tr>\n",
       "    <tr>\n",
       "      <th>14</th>\n",
       "      <td>0.333333</td>\n",
       "      <td>0.666667</td>\n",
       "      <td>1</td>\n",
       "    </tr>\n",
       "    <tr>\n",
       "      <th>15</th>\n",
       "      <td>0.500000</td>\n",
       "      <td>0.500000</td>\n",
       "      <td>1</td>\n",
       "    </tr>\n",
       "    <tr>\n",
       "      <th>16</th>\n",
       "      <td>1.000000</td>\n",
       "      <td>0.000000</td>\n",
       "      <td>0</td>\n",
       "    </tr>\n",
       "    <tr>\n",
       "      <th>17</th>\n",
       "      <td>0.800000</td>\n",
       "      <td>0.200000</td>\n",
       "      <td>0</td>\n",
       "    </tr>\n",
       "    <tr>\n",
       "      <th>18</th>\n",
       "      <td>1.000000</td>\n",
       "      <td>0.000000</td>\n",
       "      <td>0</td>\n",
       "    </tr>\n",
       "    <tr>\n",
       "      <th>19</th>\n",
       "      <td>0.000000</td>\n",
       "      <td>0.000000</td>\n",
       "      <td>2</td>\n",
       "    </tr>\n",
       "    <tr>\n",
       "      <th>20</th>\n",
       "      <td>0.750000</td>\n",
       "      <td>0.250000</td>\n",
       "      <td>0</td>\n",
       "    </tr>\n",
       "    <tr>\n",
       "      <th>21</th>\n",
       "      <td>0.666667</td>\n",
       "      <td>0.333333</td>\n",
       "      <td>0</td>\n",
       "    </tr>\n",
       "  </tbody>\n",
       "</table>\n",
       "</div>"
      ],
      "text/plain": [
       "         CER       OER  clusters\n",
       "11  0.500000  0.500000         1\n",
       "12  0.400000  0.600000         1\n",
       "13  0.800000  0.200000         0\n",
       "14  0.333333  0.666667         1\n",
       "15  0.500000  0.500000         1\n",
       "16  1.000000  0.000000         0\n",
       "17  0.800000  0.200000         0\n",
       "18  1.000000  0.000000         0\n",
       "19  0.000000  0.000000         2\n",
       "20  0.750000  0.250000         0\n",
       "21  0.666667  0.333333         0"
      ]
     },
     "metadata": {},
     "output_type": "display_data"
    }
   ],
   "source": [
    "new_df = dataset.iloc[:, [18, 19]].copy()\n",
    "new_df['clusters'] = y_predict\n",
    "new_df.head()\n",
    "display(new_df)"
   ]
  },
  {
   "cell_type": "markdown",
   "id": "900a0d3f",
   "metadata": {},
   "source": [
    "# Cluster Analysis"
   ]
  },
  {
   "cell_type": "markdown",
   "id": "262e8a4f",
   "metadata": {},
   "source": [
    "## Cluster 1"
   ]
  },
  {
   "cell_type": "code",
   "execution_count": 8,
   "id": "ba8fef3b",
   "metadata": {},
   "outputs": [
    {
     "data": {
      "text/plain": [
       "6"
      ]
     },
     "execution_count": 8,
     "metadata": {},
     "output_type": "execute_result"
    }
   ],
   "source": [
    "len(new_df[new_df[\"clusters\"] == 0])"
   ]
  },
  {
   "cell_type": "code",
   "execution_count": 9,
   "id": "849d9447",
   "metadata": {},
   "outputs": [
    {
     "name": "stdout",
     "output_type": "stream",
     "text": [
      "CER min -  0.666666667\n",
      "CER max -  1.0\n",
      "\n",
      "OER min -  0.0\n",
      "OER max -  0.333333333\n"
     ]
    }
   ],
   "source": [
    "cluster_0 = new_df[new_df[\"clusters\"] == 0 ]\n",
    "\n",
    "maxVal = cluster_0['CER'].max()\n",
    "minVal = cluster_0['CER'].min()\n",
    "\n",
    "print(\"CER min - \", minVal)\n",
    "print(\"CER max - \", maxVal)\n",
    "print()\n",
    "\n",
    "maxVal = cluster_0['OER'].max()\n",
    "minVal = cluster_0['OER'].min()\n",
    "\n",
    "print(\"OER min - \", minVal)\n",
    "print(\"OER max - \", maxVal)"
   ]
  },
  {
   "cell_type": "code",
   "execution_count": 10,
   "id": "6c5b7397",
   "metadata": {},
   "outputs": [
    {
     "data": {
      "text/html": [
       "<div>\n",
       "<style scoped>\n",
       "    .dataframe tbody tr th:only-of-type {\n",
       "        vertical-align: middle;\n",
       "    }\n",
       "\n",
       "    .dataframe tbody tr th {\n",
       "        vertical-align: top;\n",
       "    }\n",
       "\n",
       "    .dataframe thead th {\n",
       "        text-align: right;\n",
       "    }\n",
       "</style>\n",
       "<table border=\"1\" class=\"dataframe\">\n",
       "  <thead>\n",
       "    <tr style=\"text-align: right;\">\n",
       "      <th></th>\n",
       "      <th>CER</th>\n",
       "      <th>OER</th>\n",
       "      <th>clusters</th>\n",
       "    </tr>\n",
       "  </thead>\n",
       "  <tbody>\n",
       "    <tr>\n",
       "      <th>13</th>\n",
       "      <td>0.800000</td>\n",
       "      <td>0.200000</td>\n",
       "      <td>0</td>\n",
       "    </tr>\n",
       "    <tr>\n",
       "      <th>16</th>\n",
       "      <td>1.000000</td>\n",
       "      <td>0.000000</td>\n",
       "      <td>0</td>\n",
       "    </tr>\n",
       "    <tr>\n",
       "      <th>17</th>\n",
       "      <td>0.800000</td>\n",
       "      <td>0.200000</td>\n",
       "      <td>0</td>\n",
       "    </tr>\n",
       "    <tr>\n",
       "      <th>18</th>\n",
       "      <td>1.000000</td>\n",
       "      <td>0.000000</td>\n",
       "      <td>0</td>\n",
       "    </tr>\n",
       "    <tr>\n",
       "      <th>20</th>\n",
       "      <td>0.750000</td>\n",
       "      <td>0.250000</td>\n",
       "      <td>0</td>\n",
       "    </tr>\n",
       "    <tr>\n",
       "      <th>21</th>\n",
       "      <td>0.666667</td>\n",
       "      <td>0.333333</td>\n",
       "      <td>0</td>\n",
       "    </tr>\n",
       "  </tbody>\n",
       "</table>\n",
       "</div>"
      ],
      "text/plain": [
       "         CER       OER  clusters\n",
       "13  0.800000  0.200000         0\n",
       "16  1.000000  0.000000         0\n",
       "17  0.800000  0.200000         0\n",
       "18  1.000000  0.000000         0\n",
       "20  0.750000  0.250000         0\n",
       "21  0.666667  0.333333         0"
      ]
     },
     "metadata": {},
     "output_type": "display_data"
    },
    {
     "data": {
      "text/plain": [
       "<AxesSubplot:>"
      ]
     },
     "execution_count": 10,
     "metadata": {},
     "output_type": "execute_result"
    },
    {
     "data": {
      "image/png": "[encoded data removed]",
      "text/plain": [
       "<Figure size 432x288 with 1 Axes>"
      ]
     },
     "metadata": {
      "needs_background": "light"
     },
     "output_type": "display_data"
    }
   ],
   "source": [
    "cluster_0 = new_df[new_df[\"clusters\"] == 0 ]\n",
    "display(cluster_0)\n",
    "cluster_0.boxplot(column =['CER'], grid = False)"
   ]
  },
  {
   "cell_type": "code",
   "execution_count": 11,
   "id": "c98d3f7e",
   "metadata": {},
   "outputs": [
    {
     "data": {
      "text/plain": [
       "<AxesSubplot:>"
      ]
     },
     "execution_count": 11,
     "metadata": {},
     "output_type": "execute_result"
    },
    {
     "data": {
      "image/png": "[encoded data removed]",
      "text/plain": [
       "<Figure size 432x288 with 1 Axes>"
      ]
     },
     "metadata": {
      "needs_background": "light"
     },
     "output_type": "display_data"
    }
   ],
   "source": [
    "cluster_0.boxplot(column =['OER'], grid = False)"
   ]
  },
  {
   "cell_type": "markdown",
   "id": "dd8d7e4f",
   "metadata": {},
   "source": [
    "## Cluster 2"
   ]
  },
  {
   "cell_type": "code",
   "execution_count": 12,
   "id": "f9ed816e",
   "metadata": {},
   "outputs": [
    {
     "data": {
      "text/plain": [
       "4"
      ]
     },
     "execution_count": 12,
     "metadata": {},
     "output_type": "execute_result"
    }
   ],
   "source": [
    "len(new_df[new_df[\"clusters\"] == 1])"
   ]
  },
  {
   "cell_type": "code",
   "execution_count": 13,
   "id": "2ab1bc45",
   "metadata": {},
   "outputs": [
    {
     "name": "stdout",
     "output_type": "stream",
     "text": [
      "CER min -  0.333333333\n",
      "CER max -  0.5\n",
      "\n",
      "OER min -  0.5\n",
      "OER max -  0.666666667\n"
     ]
    }
   ],
   "source": [
    "cluster_1 = new_df[new_df[\"clusters\"] == 1 ]\n",
    "\n",
    "maxVal = cluster_1['CER'].max()\n",
    "minVal = cluster_1['CER'].min()\n",
    "\n",
    "print(\"CER min - \", minVal)\n",
    "print(\"CER max - \", maxVal)\n",
    "print()\n",
    "\n",
    "maxVal = cluster_1['OER'].max()\n",
    "minVal = cluster_1['OER'].min()\n",
    "\n",
    "print(\"OER min - \", minVal)\n",
    "print(\"OER max - \", maxVal)"
   ]
  },
  {
   "cell_type": "code",
   "execution_count": 14,
   "id": "e3eeb500",
   "metadata": {},
   "outputs": [
    {
     "data": {
      "text/html": [
       "<div>\n",
       "<style scoped>\n",
       "    .dataframe tbody tr th:only-of-type {\n",
       "        vertical-align: middle;\n",
       "    }\n",
       "\n",
       "    .dataframe tbody tr th {\n",
       "        vertical-align: top;\n",
       "    }\n",
       "\n",
       "    .dataframe thead th {\n",
       "        text-align: right;\n",
       "    }\n",
       "</style>\n",
       "<table border=\"1\" class=\"dataframe\">\n",
       "  <thead>\n",
       "    <tr style=\"text-align: right;\">\n",
       "      <th></th>\n",
       "      <th>CER</th>\n",
       "      <th>OER</th>\n",
       "      <th>clusters</th>\n",
       "    </tr>\n",
       "  </thead>\n",
       "  <tbody>\n",
       "    <tr>\n",
       "      <th>11</th>\n",
       "      <td>0.500000</td>\n",
       "      <td>0.500000</td>\n",
       "      <td>1</td>\n",
       "    </tr>\n",
       "    <tr>\n",
       "      <th>12</th>\n",
       "      <td>0.400000</td>\n",
       "      <td>0.600000</td>\n",
       "      <td>1</td>\n",
       "    </tr>\n",
       "    <tr>\n",
       "      <th>14</th>\n",
       "      <td>0.333333</td>\n",
       "      <td>0.666667</td>\n",
       "      <td>1</td>\n",
       "    </tr>\n",
       "    <tr>\n",
       "      <th>15</th>\n",
       "      <td>0.500000</td>\n",
       "      <td>0.500000</td>\n",
       "      <td>1</td>\n",
       "    </tr>\n",
       "  </tbody>\n",
       "</table>\n",
       "</div>"
      ],
      "text/plain": [
       "         CER       OER  clusters\n",
       "11  0.500000  0.500000         1\n",
       "12  0.400000  0.600000         1\n",
       "14  0.333333  0.666667         1\n",
       "15  0.500000  0.500000         1"
      ]
     },
     "metadata": {},
     "output_type": "display_data"
    },
    {
     "data": {
      "text/plain": [
       "<AxesSubplot:>"
      ]
     },
     "execution_count": 14,
     "metadata": {},
     "output_type": "execute_result"
    },
    {
     "data": {
      "image/png": "[encoded data removed]",
      "text/plain": [
       "<Figure size 432x288 with 1 Axes>"
      ]
     },
     "metadata": {
      "needs_background": "light"
     },
     "output_type": "display_data"
    }
   ],
   "source": [
    "cluster_1 = new_df[new_df[\"clusters\"] == 1 ]\n",
    "display(cluster_1)\n",
    "cluster_1.boxplot(column =['CER'], grid = False)"
   ]
  },
  {
   "cell_type": "code",
   "execution_count": 15,
   "id": "10ff99a7",
   "metadata": {},
   "outputs": [
    {
     "data": {
      "text/plain": [
       "<AxesSubplot:>"
      ]
     },
     "execution_count": 15,
     "metadata": {},
     "output_type": "execute_result"
    },
    {
     "data": {
      "image/png": "[encoded data removed]",
      "text/plain": [
       "<Figure size 432x288 with 1 Axes>"
      ]
     },
     "metadata": {
      "needs_background": "light"
     },
     "output_type": "display_data"
    }
   ],
   "source": [
    "cluster_1.boxplot(column =['OER'], grid = False)"
   ]
  },
  {
   "cell_type": "markdown",
   "id": "e62b9a30",
   "metadata": {},
   "source": [
    "## Cluster 3"
   ]
  },
  {
   "cell_type": "code",
   "execution_count": 16,
   "id": "105ff3ad",
   "metadata": {},
   "outputs": [
    {
     "data": {
      "text/plain": [
       "1"
      ]
     },
     "execution_count": 16,
     "metadata": {},
     "output_type": "execute_result"
    }
   ],
   "source": [
    "len(new_df[new_df[\"clusters\"] == 2])"
   ]
  },
  {
   "cell_type": "code",
   "execution_count": 17,
   "id": "09b1596d",
   "metadata": {},
   "outputs": [
    {
     "name": "stdout",
     "output_type": "stream",
     "text": [
      "CER min -  0.0\n",
      "CER max -  0.0\n",
      "\n",
      "OER min -  0.0\n",
      "OER max -  0.0\n"
     ]
    }
   ],
   "source": [
    "cluster_2 = new_df[new_df[\"clusters\"] == 2 ]\n",
    "\n",
    "maxVal = cluster_2['CER'].max()\n",
    "minVal = cluster_2['CER'].min()\n",
    "\n",
    "print(\"CER min - \", minVal)\n",
    "print(\"CER max - \", maxVal)\n",
    "print()\n",
    "\n",
    "maxVal = cluster_2['OER'].max()\n",
    "minVal = cluster_2['OER'].min()\n",
    "\n",
    "print(\"OER min - \", minVal)\n",
    "print(\"OER max - \", maxVal)"
   ]
  },
  {
   "cell_type": "code",
   "execution_count": 18,
   "id": "9c9ac4a6",
   "metadata": {},
   "outputs": [
    {
     "data": {
      "text/html": [
       "<div>\n",
       "<style scoped>\n",
       "    .dataframe tbody tr th:only-of-type {\n",
       "        vertical-align: middle;\n",
       "    }\n",
       "\n",
       "    .dataframe tbody tr th {\n",
       "        vertical-align: top;\n",
       "    }\n",
       "\n",
       "    .dataframe thead th {\n",
       "        text-align: right;\n",
       "    }\n",
       "</style>\n",
       "<table border=\"1\" class=\"dataframe\">\n",
       "  <thead>\n",
       "    <tr style=\"text-align: right;\">\n",
       "      <th></th>\n",
       "      <th>CER</th>\n",
       "      <th>OER</th>\n",
       "      <th>clusters</th>\n",
       "    </tr>\n",
       "  </thead>\n",
       "  <tbody>\n",
       "    <tr>\n",
       "      <th>19</th>\n",
       "      <td>0.0</td>\n",
       "      <td>0.0</td>\n",
       "      <td>2</td>\n",
       "    </tr>\n",
       "  </tbody>\n",
       "</table>\n",
       "</div>"
      ],
      "text/plain": [
       "    CER  OER  clusters\n",
       "19  0.0  0.0         2"
      ]
     },
     "metadata": {},
     "output_type": "display_data"
    },
    {
     "data": {
      "text/plain": [
       "<AxesSubplot:>"
      ]
     },
     "execution_count": 18,
     "metadata": {},
     "output_type": "execute_result"
    },
    {
     "data": {
      "image/png": "[encoded data removed]",
      "text/plain": [
       "<Figure size 432x288 with 1 Axes>"
      ]
     },
     "metadata": {
      "needs_background": "light"
     },
     "output_type": "display_data"
    }
   ],
   "source": [
    "cluster_2 = new_df[new_df[\"clusters\"] == 2 ]\n",
    "display(cluster_2)\n",
    "cluster_2.boxplot(column =['CER'], grid = False)"
   ]
  },
  {
   "cell_type": "code",
   "execution_count": 19,
   "id": "1ee51b0b",
   "metadata": {},
   "outputs": [
    {
     "data": {
      "text/plain": [
       "<AxesSubplot:>"
      ]
     },
     "execution_count": 19,
     "metadata": {},
     "output_type": "execute_result"
    },
    {
     "data": {
      "image/png": "[encoded data removed]",
      "text/plain": [
       "<Figure size 432x288 with 1 Axes>"
      ]
     },
     "metadata": {
      "needs_background": "light"
     },
     "output_type": "display_data"
    }
   ],
   "source": [
    "cluster_2.boxplot(column =['OER'], grid = False)"
   ]
  },
  {
   "cell_type": "code",
   "execution_count": 20,
   "id": "c25bc1bd",
   "metadata": {},
   "outputs": [
    {
     "data": {
      "image/png": "[encoded data removed]",
      "text/plain": [
       "<Figure size 432x288 with 1 Axes>"
      ]
     },
     "metadata": {
      "needs_background": "light"
     },
     "output_type": "display_data"
    }
   ],
   "source": [
    "from matplotlib import pyplot as plt\n",
    "\n",
    "# Pandas dataframe\n",
    "data = pd.DataFrame({\"Cluster1\": cluster_0['CER'], \"Cluster2\": cluster_1['CER'], \"Cluster3\": cluster_2['CER']})\n",
    "\n",
    "# Plot the dataframe\n",
    "ax = data[['Cluster1', 'Cluster2', 'Cluster3']].plot(kind='box', title='boxplot')\n",
    "\n",
    "# Display the plot\n",
    "plt.show()"
   ]
  },
  {
   "cell_type": "code",
   "execution_count": 21,
   "id": "c24315eb",
   "metadata": {},
   "outputs": [
    {
     "data": {
      "image/png": "[encoded data removed]",
      "text/plain": [
       "<Figure size 432x288 with 1 Axes>"
      ]
     },
     "metadata": {
      "needs_background": "light"
     },
     "output_type": "display_data"
    }
   ],
   "source": [
    "from matplotlib import pyplot as plt\n",
    "\n",
    "# Pandas dataframe\n",
    "data = pd.DataFrame({\"Cluster1\": cluster_0['OER'], \"Cluster2\": cluster_1['OER'], \"Cluster3\": cluster_2['OER']})\n",
    "\n",
    "# Plot the dataframe\n",
    "ax = data[['Cluster1', 'Cluster2', 'Cluster3']].plot(kind='box', title='boxplot')\n",
    "\n",
    "# Display the plot\n",
    "plt.show()"
   ]
  }
 ],
 "metadata": {
  "kernelspec": {
   "display_name": "Python 3 (ipykernel)",
   "language": "python",
   "name": "python3"
  },
  "language_info": {
   "codemirror_mode": {
    "name": "ipython",
    "version": 3
   },
   "file_extension": ".py",
   "mimetype": "text/x-python",
   "name": "python",
   "nbconvert_exporter": "python",
   "pygments_lexer": "ipython3",
   "version": "3.9.3"
  }
 },
 "nbformat": 4,
 "nbformat_minor": 5
}
